{
 "cells": [
  {
   "cell_type": "code",
   "execution_count": 7,
   "id": "initial_id",
   "metadata": {},
   "outputs": [],
   "source": [
    "import os\n",
    "import json\n",
    "import pandas as pd"
   ]
  },
  {
   "cell_type": "code",
   "execution_count": 70,
   "id": "0748f260-8159-4473-94a5-97812480123f",
   "metadata": {},
   "outputs": [],
   "source": [
    "object_list = [\n",
    "    \"Accent Paving\", \"Barrier Post\", \"Barrier Stump\", \"Bench\", \"Bicycle\", \"Bridge\", \n",
    "    \"Building\", \"Bus\", \"Bus Stop\", \"Car\", \"Chair\", \"Closed Sidewalk\", \"Counter\", \n",
    "    \"Crosswalk\", \"Curb\", \"Dog\", \"Driveway(flat)\", \"Elevator\", \"Escalator\", \"Fence\", \n",
    "    \"Fire hydrant\", \"Flush Door\", \"Foldout Sign\", \"Fountain\", \"Gate\", \"Guide dog\", \n",
    "    \"Gutter\", \"Hose\", \"Lamp Post\", \"Mail box\", \"Maintenance Vehicle\", \"Motorcycle\", \n",
    "    \"Parallel Parking Spot\", \"Paratransit vehicle\", \"Pedestrian Crossing\", \"Person\", \n",
    "    \"Person with a disability\", \"Pillar\", \"Pole\", \"Puddle\", \"Push button\", \"Railing\", \n",
    "    \"Raised Entryway\", \"Retaining Wall\", \"Road\", \"Road Divider\", \"Road Shoulder\", \n",
    "    \"Roadside Parking\", \"Sidewalk\", \"Sidewalk pits\", \"Sign\", \"Sign Post\", \"Sloped Driveway\", \n",
    "    \"Slopped Curb\", \"Snow\", \"Stairs\", \"Stop sign\", \"Street Vendor\", \"Table\", \"Tactile Paving\", \n",
    "    \"Traffic Signals\", \"Train Platform\", \"Train Tracks\", \"Trash bins\", \"Trash on roads\", \"Tree\", \n",
    "    \"Turnstile\", \"Uncontrolled Crossing\", \"Uneven Stairs\", \"Unpaved Road\", \"Unpaved Sidewalk\", \n",
    "    \"Vegetation\", \"Wall\", \"Water leakage\", \"Water Pipes\", \"Wet surface\", \"Wheelchair\", \n",
    "    \"White Cane\", \"Yard Waste\"\n",
    "]"
   ]
  },
  {
   "cell_type": "code",
   "execution_count": 71,
   "id": "e051751b-cded-41e2-89fd-5e804dc0b8db",
   "metadata": {},
   "outputs": [],
   "source": [
    "gpt4v_raw_res_file = './gpt4v_out.json'\n",
    "llava_raw_res_file = './llava_out.json'"
   ]
  },
  {
   "cell_type": "code",
   "execution_count": 72,
   "id": "2a3d76fe-1327-4d06-b992-e8fb40cdd65c",
   "metadata": {},
   "outputs": [],
   "source": [
    "with open (gpt4v_raw_res_file, 'r') as f:\n",
    "    gpt4v_raw_res = json.load(f)\n",
    "\n",
    "with open (llava_raw_res_file, 'r') as f:\n",
    "    llava_raw_res = json.load(f)"
   ]
  },
  {
   "cell_type": "code",
   "execution_count": 73,
   "id": "e8f59792-b0a8-4f31-9369-17a10e6a54a2",
   "metadata": {},
   "outputs": [],
   "source": [
    "gpt4v_out_path = '/Users/ibk5106/Desktop/research/vqa_accessibility/Dashboard-For-VQA/Dashboard Data/GPT4V'\n",
    "llava_out_path = '/Users/ibk5106/Desktop/research/vqa_accessibility/Dashboard-For-VQA/Dashboard Data/LLaVa'"
   ]
  },
  {
   "cell_type": "code",
   "execution_count": 93,
   "id": "881bd75b-151d-48c7-8e0d-1bb7abfd4c77",
   "metadata": {},
   "outputs": [],
   "source": [
    "for vid in gpt4v_raw_res.keys():\n",
    "    gpt_df_dict = {\n",
    "        'Object': [f'Frame-{fm}' for fm in gpt4v_raw_res[vid].keys()]\n",
    "    }\n",
    "    \n",
    "    for frm in gpt4v_raw_res[vid].keys():\n",
    "        frm_obj = []\n",
    "        for obj in gpt4v_raw_res[vid][frm].keys():\n",
    "            obj_up = obj\n",
    "            if obj == 'Driveway (flat)':\n",
    "                obj_up = 'Driveway(flat)'\n",
    "            if obj_up not in gpt_df_dict.keys():\n",
    "                gpt_df_dict[obj_up] = []\n",
    "            if gpt4v_raw_res[vid][frm][obj] == 'yes':\n",
    "                gpt_df_dict[obj_up].append(1)\n",
    "            else:\n",
    "                gpt_df_dict[obj_up].append(0)\n",
    "            frm_obj.append(obj_up)\n",
    "        if frm_obj != object_list:\n",
    "            print(vid, frm, set(object_list)-set(frm_obj))\n",
    "            assert frm_obj == object_list\n",
    "\n",
    "    gpt_df = pd.DataFrame(gpt_df_dict).transpose().reset_index()\n",
    "    gpt_df.columns = gpt_df.iloc[0]\n",
    "    gpt_df = gpt_df[1:]\n",
    "    gpt_df.to_csv(os.path.join(gpt4v_out_path, f'{vid}.csv'), index=None)"
   ]
  },
  {
   "cell_type": "code",
   "execution_count": 94,
   "id": "0aabb6d4-2916-486b-9847-392736812e7b",
   "metadata": {},
   "outputs": [],
   "source": [
    "for vid in llava_raw_res.keys():\n",
    "    llava_df_dict = {\n",
    "        'Object': [f'Frame-{fm}' for fm in gpt4v_raw_res[vid].keys()]\n",
    "    }\n",
    "    \n",
    "    for frm in llava_raw_res[vid].keys():\n",
    "        frm_obj = []\n",
    "        for obj in llava_raw_res[vid][frm].keys():\n",
    "            obj_up = obj\n",
    "            if obj == 'Driveway (flat)':\n",
    "                obj_up = 'Driveway(flat)'\n",
    "            if obj_up not in llava_df_dict.keys():\n",
    "                llava_df_dict[obj_up] = []\n",
    "            if llava_raw_res[vid][frm][obj] == 'yes':\n",
    "                llava_df_dict[obj_up].append(1)\n",
    "            else:\n",
    "                llava_df_dict[obj_up].append(0)\n",
    "            frm_obj.append(obj_up)\n",
    "        if frm_obj != object_list:\n",
    "            print(vid, frm, set(object_list)-set(frm_obj))\n",
    "            assert frm_obj == object_list\n",
    "\n",
    "    llava_df = pd.DataFrame(llava_df_dict).transpose().reset_index()\n",
    "    llava_df.columns = llava_df.iloc[0]\n",
    "    llava_df = llava_df[1:]\n",
    "    llava_df.to_csv(os.path.join(llava_out_path, f'{vid}.csv'), index=None)"
   ]
  }
 ],
 "metadata": {
  "kernelspec": {
   "display_name": "Python 3",
   "language": "python",
   "name": "python3"
  },
  "language_info": {
   "codemirror_mode": {
    "name": "ipython",
    "version": 3
   },
   "file_extension": ".py",
   "mimetype": "text/x-python",
   "name": "python",
   "nbconvert_exporter": "python",
   "pygments_lexer": "ipython3",
   "version": "3.8.18"
  }
 },
 "nbformat": 4,
 "nbformat_minor": 5
}
