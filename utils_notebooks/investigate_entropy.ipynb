{
 "cells": [
  {
   "cell_type": "code",
   "execution_count": 25,
   "metadata": {
    "ExecuteTime": {
     "end_time": "2023-11-02T17:13:30.790441Z",
     "start_time": "2023-11-02T17:13:28.950405Z"
    }
   },
   "outputs": [],
   "source": [
    "import os\n",
    "import glob\n",
    "import pandas as pd\n",
    "import lpips\n",
    "import math\n",
    "import plotly.express as px\n",
    "import numpy as np\n",
    "from natsort import natsorted\n",
    "import cv2\n",
    "from PIL import Image\n",
    "import torchvision.transforms as transforms\n",
    "from tqdm import tqdm\n",
    "from sklearn import metrics\n",
    "from sklearn.metrics import classification_report\n",
    "from sklearn.metrics import accuracy_score, precision_score\n",
    "import scipy.stats\n",
    "import matplotlib.pyplot as plt\n",
    "import plotly.graph_objects as go\n",
    "from openpyxl import Workbook\n",
    "from openpyxl.drawing.image import Image as Image_openpyxl\n",
    "from openpyxl.utils import get_column_letter\n",
    "from openpyxl.styles import Alignment\n",
    "from openpyxl.drawing.xdr import XDRPositiveSize2D\n",
    "from openpyxl.utils.units import pixels_to_EMU, cm_to_EMU\n",
    "from openpyxl.drawing.spreadsheet_drawing import OneCellAnchor, AnchorMarker\n",
    "import pickle\n",
    "from scipy.sparse.linalg import lsqr"
   ]
  },
  {
   "cell_type": "code",
   "execution_count": 26,
   "metadata": {
    "ExecuteTime": {
     "end_time": "2023-11-02T16:18:37.392475Z",
     "start_time": "2023-11-02T16:18:36.442950Z"
    },
    "collapsed": false,
    "jupyter": {
     "outputs_hidden": false
    }
   },
   "outputs": [
    {
     "name": "stdout",
     "output_type": "stream",
     "text": [
      "Setting up [LPIPS] perceptual loss: trunk [alex], v[0.1], spatial [off]\n"
     ]
    },
    {
     "name": "stderr",
     "output_type": "stream",
     "text": [
      "/Users/imrankabir/Desktop/research/vqa_accessibility/Dashboard-For-VQA/venv/lib/python3.9/site-packages/torchvision/models/_utils.py:208: UserWarning:\n",
      "\n",
      "The parameter 'pretrained' is deprecated since 0.13 and may be removed in the future, please use 'weights' instead.\n",
      "\n",
      "/Users/imrankabir/Desktop/research/vqa_accessibility/Dashboard-For-VQA/venv/lib/python3.9/site-packages/torchvision/models/_utils.py:223: UserWarning:\n",
      "\n",
      "Arguments other than a weight enum or `None` for 'weights' are deprecated since 0.13 and may be removed in the future. The current behavior is equivalent to passing `weights=AlexNet_Weights.IMAGENET1K_V1`. You can also use `weights=AlexNet_Weights.DEFAULT` to get the most up-to-date weights.\n",
      "\n"
     ]
    },
    {
     "name": "stdout",
     "output_type": "stream",
     "text": [
      "Loading model from: /Users/imrankabir/Desktop/research/vqa_accessibility/Dashboard-For-VQA/venv/lib/python3.9/site-packages/lpips/weights/v0.1/alex.pth\n",
      "Setting up [LPIPS] perceptual loss: trunk [vgg], v[0.1], spatial [off]\n"
     ]
    },
    {
     "name": "stderr",
     "output_type": "stream",
     "text": [
      "/Users/imrankabir/Desktop/research/vqa_accessibility/Dashboard-For-VQA/venv/lib/python3.9/site-packages/torchvision/models/_utils.py:223: UserWarning:\n",
      "\n",
      "Arguments other than a weight enum or `None` for 'weights' are deprecated since 0.13 and may be removed in the future. The current behavior is equivalent to passing `weights=VGG16_Weights.IMAGENET1K_V1`. You can also use `weights=VGG16_Weights.DEFAULT` to get the most up-to-date weights.\n",
      "\n"
     ]
    },
    {
     "name": "stdout",
     "output_type": "stream",
     "text": [
      "Loading model from: /Users/imrankabir/Desktop/research/vqa_accessibility/Dashboard-For-VQA/venv/lib/python3.9/site-packages/lpips/weights/v0.1/vgg.pth\n"
     ]
    }
   ],
   "source": [
    "loss_fn_alex = lpips.LPIPS(net='alex')\n",
    "loss_fn_vgg = lpips.LPIPS(net='vgg')"
   ]
  },
  {
   "cell_type": "code",
   "execution_count": 27,
   "metadata": {
    "ExecuteTime": {
     "end_time": "2023-11-02T16:18:37.399521Z",
     "start_time": "2023-11-02T16:18:37.393234Z"
    },
    "collapsed": false,
    "jupyter": {
     "outputs_hidden": false
    }
   },
   "outputs": [],
   "source": [
    "images_dir = '/Users/imrankabir/Desktop/research/vqa_accessibility/Dashboard-For-VQA/Dashboard Data/Images'\n",
    "data_path = '/Users/imrankabir/Desktop/research/vqa_accessibility/Dashboard-For-VQA/Dashboard Data'\n",
    "gt_fol = os.path.join(data_path, \"GT_N\")"
   ]
  },
  {
   "cell_type": "code",
   "execution_count": 49,
   "metadata": {
    "collapsed": false,
    "jupyter": {
     "outputs_hidden": false
    }
   },
   "outputs": [],
   "source": [
    "def get_mAP(targets, preds):\n",
    "    APs = np.zeros(preds.shape[1])\n",
    "    APs2 = np.zeros(preds.shape[1])\n",
    "    ARs = np.zeros(preds.shape[1])\n",
    "    F1s = np.zeros(preds.shape[1])\n",
    "    ACCs = np.zeros(preds.shape[1])\n",
    "    for k in range(preds.shape[1]):\n",
    "        APs[k], ARs[k], F1s[k], ACCs[k] = _average_precision_2(targets[:, k], preds[:, k])\n",
    "        APs2[k] = _average_precision(targets[:, k], preds[:, k])\n",
    "\n",
    "    return APs, ARs, F1s, ACCs, APs2\n",
    "\n",
    "def _average_precision(output, target):\n",
    "    # print(output, target)\n",
    "    epsilon = 1e-8\n",
    "\n",
    "    # sort examples\n",
    "    indices = output.argsort()[::-1]\n",
    "    # Computes prec@i\n",
    "    total_count_ = np.cumsum(np.ones((len(output), 1)))\n",
    "\n",
    "    target_ = target[indices]\n",
    "\n",
    "    ind = target_ == 1\n",
    "\n",
    "    pos_count_ = np.cumsum(ind)\n",
    "\n",
    "    total = pos_count_[-1]\n",
    "    pos_count_[np.logical_not(ind)] = 0\n",
    "\n",
    "    pp = pos_count_ / total_count_\n",
    "    precision_at_i_ = np.sum(pp)\n",
    "    # print(pp, precision_at_i_, pos_count_, total_count_)\n",
    "    precision_at_i = precision_at_i_ / (total + epsilon)\n",
    "\n",
    "    return precision_at_i\n",
    "\n",
    "\n",
    "def _average_precision_2(target, output):\n",
    "    epsilon = 1e-8\n",
    "\n",
    "    total_pred_pos = np.count_nonzero(output)\n",
    "    total_target_pos = np.count_nonzero(target)\n",
    "\n",
    "    TP = np.count_nonzero(np.logical_and(output, target))\n",
    "    TN = np.count_nonzero(np.logical_and(np.logical_not(output), np.logical_not(target)))\n",
    "    FP = total_pred_pos - TP\n",
    "    FN = total_target_pos - TP\n",
    "\n",
    "    AP = TP / (TP + FP + epsilon)\n",
    "    AR = TP / (TP + FN + epsilon)\n",
    "    F1 = (2 * AP * AR) / (AP + AR + epsilon)\n",
    "    ACC = (TP + FP) / (TP + TN + FP + FN + epsilon)\n",
    "\n",
    "    return AP, AR, F1, ACC\n",
    "\n",
    "\n",
    "def calculate_model_map(gt_path, gt_files, pred_path, obj_list=None):\n",
    "    gt_dict = {}\n",
    "    pred_dict = {}\n",
    "\n",
    "    for fl in gt_files:\n",
    "        if fl in [\"video-10-segment-1.csv\", \"video-9-segment-2.csv\"]:\n",
    "            continue\n",
    "        gt_fl = os.path.join(gt_path, fl)\n",
    "        pred_fl = os.path.join(pred_path, fl)\n",
    "\n",
    "        if not os.path.exists(pred_fl):\n",
    "            continue\n",
    "\n",
    "        gt_data = pd.read_csv(gt_fl)\n",
    "        gt_data.replace(-1, 1, inplace=True)\n",
    "        x = []\n",
    "        for index, row in gt_data.iterrows():\n",
    "            # if list(row)[0].strip().lower() in [\"Sidewalk pits\"]:\n",
    "            #     continue\n",
    "            if list(row)[0].strip().lower() in gt_dict.keys():\n",
    "                gt_dict[list(row)[0].strip().lower()] += list(row)[1:]\n",
    "            else:\n",
    "                gt_dict[list(row)[0].strip().lower()] = list(row)[1:]\n",
    "\n",
    "            x.append(len(list(row)[1:]))\n",
    "\n",
    "        y = []\n",
    "        pred_data = pd.read_csv(pred_fl)\n",
    "        pred_data.replace(-1, 1, inplace=True)\n",
    "        for index, row in pred_data.iterrows():\n",
    "            # if list(row)[0].strip().lower() in [\"Sidewalk pits\"]:\n",
    "            #     continue\n",
    "            if list(row)[0].strip().lower() in pred_dict.keys():\n",
    "                pred_dict[list(row)[0].strip().lower()] += list(row)[1:]\n",
    "            else:\n",
    "                pred_dict[list(row)[0].strip().lower()] = list(row)[1:]\n",
    "            y.append(len(list(row)[1:]))\n",
    "\n",
    "        if x != y:\n",
    "            print(len(x), len(y), fl)\n",
    "\n",
    "    target_array = []\n",
    "    pred_array = []\n",
    "\n",
    "    label_names = []\n",
    "\n",
    "    for key in gt_dict.keys():\n",
    "        if key in pred_dict.keys():\n",
    "            if obj_list:\n",
    "                if key not in obj_list:\n",
    "                    continue\n",
    "            if len(gt_dict[key]) == len(pred_dict[key]):\n",
    "                target_array.append(gt_dict[key])\n",
    "                pred_array.append(pred_dict[key])\n",
    "                label_names.append(key)\n",
    "            else:\n",
    "                print(len(gt_dict[key]), len(pred_dict[key]), key)\n",
    "    \n",
    "    target_array = np.array(target_array).T\n",
    "    pred_array = np.array(pred_array).T\n",
    "\n",
    "    try:\n",
    "        precs = precision_score(target_array, pred_array, average=\"binary\")\n",
    "    except Exception as e:\n",
    "        # ap = 0\n",
    "        print(e)\n",
    "        precs = 0.0\n",
    "\n",
    "    return precs"
   ]
  },
  {
   "cell_type": "code",
   "execution_count": 50,
   "metadata": {
    "ExecuteTime": {
     "end_time": "2023-11-02T16:18:37.399722Z",
     "start_time": "2023-11-02T16:18:37.395987Z"
    },
    "collapsed": false,
    "jupyter": {
     "outputs_hidden": false
    }
   },
   "outputs": [],
   "source": [
    "mean=[0.485, 0.456, 0.406]\n",
    "std=[0.229, 0.224, 0.225]\n",
    "\n",
    "transform_f = transforms.ToTensor()\n",
    "\n",
    "def normalize_image(in_img):\n",
    "    pixels = np.asarray(in_img).astype('float32')\n",
    "    pixels = (pixels - mean) / std\n",
    "    return pixels"
   ]
  },
  {
   "cell_type": "code",
   "execution_count": 40,
   "metadata": {
    "ExecuteTime": {
     "end_time": "2023-11-02T16:18:37.405708Z",
     "start_time": "2023-11-02T16:18:37.404035Z"
    },
    "collapsed": false,
    "jupyter": {
     "outputs_hidden": false
    }
   },
   "outputs": [],
   "source": [
    "def get_steady_state_probabilities_ifs(pred, img_dir, vid_n, seg_n, sim_dict):\n",
    "    pred = pred.T\n",
    "    # unq_st = np.unique(pred, axis=0)\n",
    "    unq_st = []\n",
    "    for p_ in pred:\n",
    "        pppp = list(p_)\n",
    "        if pppp not in unq_st:\n",
    "            unq_st.append(pppp)\n",
    "\n",
    "    unq_st = np.array(unq_st)\n",
    "            \n",
    "    unq_st_str = []\n",
    "    # for x in unq_st:\n",
    "    #     str_bit = [str(ch) for ch in x]\n",
    "    #     unq_st_str.append(''.join(str_bit))\n",
    "\n",
    "    # print(unq_st[0].shape[0])\n",
    "    n_o_f = 2**(unq_st[0].shape[0])\n",
    "    \n",
    "    for x in range(n_o_f):\n",
    "        str_bit = str(bin(x)).replace('0b', '').zfill(unq_st[0].shape[0])\n",
    "        unq_st_str.append(str_bit)\n",
    "\n",
    "    transition_matrix_dict = {\n",
    "        'st': [x for x in unq_st_str]\n",
    "    }\n",
    "    for u_s_s in unq_st_str:\n",
    "        transition_matrix_dict[u_s_s] = [0.0 for _ in unq_st_str]\n",
    "\n",
    "    transition_matrix = pd.DataFrame(transition_matrix_dict)\n",
    "    transition_matrix = transition_matrix.set_index('st')\n",
    "\n",
    "    d_s = [0.0]\n",
    "\n",
    "    for f in range(1, pred.shape[0]):\n",
    "        s_prev = ''.join([str(ch) for ch in pred[f-1]])\n",
    "        s_now = ''.join([str(ch) for ch in pred[f]])\n",
    "        # if f == 1:\n",
    "        #     init_state = ''.join([str(ch) for ch in pred[f-1]])\n",
    "        # s_prev = ''.join([str(ch) for ch in pred[f-1]])\n",
    "        # f_now_pth = os.path.join(img_dir, f'video-{vid_n}-segment-{seg_n}-frame-{f}.jpeg')\n",
    "        # f_prev_pth = os.path.join(img_dir, f'video-{vid_n}-segment-{seg_n}-frame-{f-1}.jpeg')\n",
    "\n",
    "        # image_now = cv2.resize(normalize_image(np.array(Image.open(\n",
    "        #     f_now_pth\n",
    "        # ).convert('RGB'))/255), (64, 64), interpolation = cv2.INTER_LINEAR).astype(np.float32)\n",
    "        # image_prev = cv2.resize(normalize_image(np.array(Image.open(\n",
    "        #     f_prev_pth\n",
    "        # ).convert('RGB'))/255), (64, 64), interpolation = cv2.INTER_LINEAR).astype(np.float32)\n",
    "\n",
    "        # img0 = transform_f(image_now).unsqueeze(0)\n",
    "        # img1 = transform_f(image_prev).unsqueeze(0)\n",
    "\n",
    "        # if f == 1:\n",
    "        #     transition_matrix[s_prev][s_prev] = 1\n",
    "\n",
    "        # if s_prev == s_now:\n",
    "        #     transition_matrix[s_prev][s_prev] = 1\n",
    "        # else:\n",
    "        #     d = loss_fn_alex(img0, img1).detach().numpy()[0,0,0,0]\n",
    "        #     transition_matrix[s_prev][s_prev] += (1.0*d)\n",
    "        #     transition_matrix[s_now][s_prev] += (1.0*(1-d))\n",
    "        #     if d < 0.5:\n",
    "        #         init_state = ''.join([str(ch) for ch in pred[f]])\n",
    "\n",
    "        d = sim_dict[f'video-{vid_n}-segment-{seg_n}'][f'{f-1}-{f}'] # loss_fn_alex(img0, img1).detach().numpy()[0,0,0,0]\n",
    "        d_s.append(d)\n",
    "        # print(d, os.path.basename(f_now_pth), os.path.basename(f_prev_pth))\n",
    "\n",
    "        # if s_now == s_prev:\n",
    "        #     transition_matrix[init_state][init_state] += (1.0*d)\n",
    "        #     transition_matrix[init_state][init_state] += (1.0*(1-d))\n",
    "        # else:\n",
    "        #     transition_matrix[s_now][init_state] += (1.0*(1-d))\n",
    "        #     transition_matrix[init_state][init_state] += (1.0*d)\n",
    "            \n",
    "        #     if d < 0.5:\n",
    "        #         init_state = ''.join([str(ch) for ch in pred[f]])\n",
    "\n",
    "        # transition_matrix[s_prev][s_prev] += (1.0*d)\n",
    "        d_frac = d/((2**n_o_f)-1)\n",
    "        transition_matrix[s_now][s_prev] += (1.0*(1-d))\n",
    "        for s_c in transition_matrix.index:\n",
    "            if s_c not in [s_now]:\n",
    "                transition_matrix[s_c][s_prev] += d_frac\n",
    "                # transition_matrix[s_prev][s_c] += d_frac\n",
    "\n",
    "        # if d < 0.5:\n",
    "        #     init_state = ''.join([str(ch) for ch in pred[f]])\n",
    "\n",
    "        \n",
    "        # print(d, s_prev, s_now)\n",
    "\n",
    "    # p_s_ifs = list(transition_matrix.sum())\n",
    "    transition_matrix = np.array(transition_matrix)\n",
    "\n",
    "    # print(transition_matrix)\n",
    "\n",
    "    N_t_s = transition_matrix.sum(axis=1)\n",
    "    alpha = 1e-3\n",
    "    d_ps = N_t_s.shape[0]\n",
    "    \n",
    "    # tmx_shape = transition_matrix.shape\n",
    "    # transition_matrix = transition_matrix.reshape((tmx_shape[0] * tmx_shape[1]))\n",
    "    # N_t = transition_matrix.sum()\n",
    "    # alpha = 1e-3\n",
    "    # d = transition_matrix.shape[0]\n",
    "    # transition_matrix = (transition_matrix + alpha) * (N_t / (N_t + (alpha * d)))\n",
    "    # transition_matrix = transition_matrix / np.sum(transition_matrix)\n",
    "    # transition_matrix = transition_matrix.reshape(tmx_shape)\n",
    "    \n",
    "    for ind, row in enumerate(transition_matrix):\n",
    "        new_row = (row + alpha) * (N_t_s[ind] / (N_t_s[ind] + (alpha * d_ps)))\n",
    "        new_row = new_row / (np.sum(new_row) + 1e-20)\n",
    "        transition_matrix[ind] = new_row\n",
    "        \n",
    "        # transition_matrix.loc[ind] = row\n",
    "    # p_s_ifs = [ccc/sum(p_s_ifs) for ccc in p_s_ifs]\n",
    "\n",
    "    I = np.identity(transition_matrix.shape[0])\n",
    "    P_I = transition_matrix - I\n",
    "    co_eff = P_I.T\n",
    "\n",
    "    # co_eff[co_eff.shape[0]-1] =  np.ones((co_eff.shape[1]))\n",
    "    # const = np.array([0.0 for _ in range(co_eff.shape[0])])\n",
    "    # const[const.shape[0]-1] = 1.0\n",
    "    # co_eff[0] =  np.ones((co_eff.shape[1]))\n",
    "    # const = np.array([0.0 for _ in range(co_eff.shape[0])])\n",
    "    # const[0] = 1.0\n",
    "\n",
    "    const = np.array([0.0 for _ in range(co_eff.shape[0])])\n",
    "    co_eff =  np.append(np.ones((1, co_eff.shape[1])), co_eff, axis=0)\n",
    "    const = np.append(np.array([1]), const)\n",
    "    \n",
    "\n",
    "    try:\n",
    "        p_s_ifs = lsqr(co_eff, const)[0] # np.linalg.solve(co_eff, const)\n",
    "    except:\n",
    "        print(det(co_eff), vid_n, seg_n)\n",
    "        p_s_ifs = lsqr(co_eff, const)[0] # np.linalg.solve(co_eff, const)\n",
    "\n",
    "    p_s_ifs = list(p_s_ifs)\n",
    "    # print(p_s_ifs)\n",
    "    for s_ind in range((2**(unq_st[0].shape[0]))-len(p_s_ifs)):\n",
    "        p_s_ifs.append(0.0)\n",
    "\n",
    "    p_s_ifs = np.array(p_s_ifs)\n",
    "    \n",
    "    return p_s_ifs, d_s"
   ]
  },
  {
   "cell_type": "code",
   "execution_count": 41,
   "metadata": {
    "ExecuteTime": {
     "end_time": "2023-11-02T16:22:42.207405Z",
     "start_time": "2023-11-02T16:22:42.199756Z"
    },
    "collapsed": false,
    "jupyter": {
     "outputs_hidden": false
    }
   },
   "outputs": [],
   "source": [
    "def get_steady_state_probabilities(h_m):\n",
    "    hm = np.array(h_m).T\n",
    "    unique_states = np.unique(hm, axis=0)\n",
    "    unq_st_and_count = {}\n",
    "    for i, u_s in enumerate(unique_states):\n",
    "        c = np.argwhere(np.all(hm == u_s, axis=-1)).shape[0]\n",
    "        unq_st_and_count[i] = {\n",
    "            'val': u_s,\n",
    "            'count': c,\n",
    "            'ss_prob': c/hm.shape[0]\n",
    "        }\n",
    "\n",
    "    return np.array([unq_st_and_count[k]['ss_prob'] for k in unq_st_and_count.keys()])\n",
    "\n",
    "\n",
    "def calculate_entropy(ss_probs):\n",
    "    if len(ss_probs) <= 1:\n",
    "        return 0.0\n",
    "\n",
    "    tot_ss_ent = 0\n",
    "\n",
    "    for prb in ss_probs:\n",
    "        if prb == 0:\n",
    "            log_p_ss = 0\n",
    "        else:\n",
    "            try:\n",
    "                log_p_ss = math.log2(prb)\n",
    "            except:\n",
    "                log_p_ss = 0.0 # math.log2(prb+1e-15)\n",
    "\n",
    "        t_ent = - prb * log_p_ss\n",
    "\n",
    "        tot_ss_ent = tot_ss_ent + t_ent\n",
    "\n",
    "    tot_ss_ent = tot_ss_ent / math.log2(len(ss_probs))\n",
    "\n",
    "    return tot_ss_ent"
   ]
  },
  {
   "cell_type": "code",
   "execution_count": 42,
   "metadata": {
    "ExecuteTime": {
     "end_time": "2023-11-02T16:44:28.287757Z",
     "start_time": "2023-11-02T16:44:28.276548Z"
    },
    "collapsed": false,
    "jupyter": {
     "outputs_hidden": false
    }
   },
   "outputs": [],
   "source": [
    "def get_st_p_ent(vid, seg, img_path, objs, model, sim_dict):\n",
    "    pred_file = os.path.join(\n",
    "        data_path,\n",
    "        f'{model}/video-{vid}-segment-{seg}.csv'\n",
    "    )\n",
    "    pred_df = pd.read_csv(pred_file)\n",
    "    pred_df = pred_df.transpose()\n",
    "    pred_df.columns = pred_df.iloc[0]\n",
    "    pred_df = pred_df.iloc[1:]\n",
    "    pred_df.columns = map(str.lower, pred_df.columns)\n",
    "    if objs is not None:\n",
    "        pred_df = pred_df.reindex(columns=objs)\n",
    "\n",
    "    pred_df = pred_df.fillna('0').transpose()\n",
    "\n",
    "    p_steady_ifs, d_s = get_steady_state_probabilities_ifs(np.array(pred_df), images_dir, vid, seg, sim_dict)\n",
    "    ent_ifs = calculate_entropy(p_steady_ifs)\n",
    "\n",
    "    p_steady = get_steady_state_probabilities(np.array(pred_df))\n",
    "    ent = calculate_entropy(p_steady)\n",
    "\n",
    "    return p_steady, ent, p_steady_ifs, ent_ifs, d_s"
   ]
  },
  {
   "cell_type": "code",
   "execution_count": 43,
   "metadata": {},
   "outputs": [],
   "source": [
    "def gen_heat_map(gt_path, gt_files, pred_path, obj_list=None, d_s=[]):\n",
    "    hm_figs = []\n",
    "    for fl in gt_files:\n",
    "        if fl in [\"video-10-segment-1.csv\", \"video-9-segment-2.csv\"]:\n",
    "            continue\n",
    "        gt_fl = os.path.join(gt_path, fl)\n",
    "        pred_fl = os.path.join(pred_path, fl)\n",
    "\n",
    "        if not os.path.exists(pred_fl):\n",
    "            continue\n",
    "\n",
    "        gt_data = pd.read_csv(gt_fl)\n",
    "        gt_data.replace(-1, 1, inplace=True)\n",
    "\n",
    "        gt_data = gt_data.transpose()\n",
    "        gt_data.columns = gt_data.iloc[0]\n",
    "        gt_data = gt_data.iloc[1:]\n",
    "        gt_data.columns = gt_data.columns.str.lower()\n",
    "        if obj_list is not None:\n",
    "            gt_data = gt_data.reindex(columns=obj_list)\n",
    "    \n",
    "        gt_data = gt_data.fillna('0').transpose()\n",
    "        gt_data.columns = gt_data.columns.str.replace(\"_\", \"-\")\n",
    "        gt_data.columns = gt_data.columns.str.capitalize()\n",
    "\n",
    "        pred_data = pd.read_csv(pred_fl)\n",
    "        pred_data.replace(-1, 1, inplace=True)\n",
    "\n",
    "        pred_data = pred_data.transpose()\n",
    "        pred_data.columns = pred_data.iloc[0]\n",
    "        pred_data = pred_data.iloc[1:]\n",
    "        pred_data.columns = pred_data.columns.str.lower()\n",
    "        if obj_list is not None:\n",
    "            pred_data = pred_data.reindex(columns=obj_list)\n",
    "    \n",
    "        pred_data = pred_data.fillna('0').transpose()\n",
    "        pred_data.columns = pred_data.columns.str.replace(\"_\", \"-\")\n",
    "        pred_data.columns = pred_data.columns.str.capitalize()\n",
    "\n",
    "        hm_ = gt_data.mul(2).add(pred_data.mul(-1), fill_value=0)\n",
    "\n",
    "        color_tp = 'rgb(71, 137, 209)' \n",
    "        color_tn = 'rgb(104, 212, 202)'\n",
    "        color_fp = 'rgb(202, 121, 59)' \n",
    "        color_fn = 'rgb(198, 59, 59)'\n",
    "        \n",
    "        fig = go.Figure()\n",
    "        \n",
    "        colorscale = [\n",
    "            [0, color_fp],\n",
    "            [0.25, color_tn],\n",
    "            [0.5, color_tp],\n",
    "            [1, color_fn]\n",
    "        ]\n",
    "        \n",
    "        fig.update_layout(\n",
    "            template=\"simple_white\",\n",
    "            xaxis=dict(title_text=\"Frames\", tickmode='linear'),\n",
    "            yaxis=dict(title_text=\"Objects\",  tickmode='linear'),\n",
    "            width=1000,\n",
    "            height=250,\n",
    "            margin=dict(l=0, r=0, t=10, b=5),\n",
    "            title=dict(\n",
    "                text=\"\",\n",
    "                font=dict(size=16, color=\"black\"),\n",
    "                x=0.5,\n",
    "                y=0.995\n",
    "        \n",
    "            )\n",
    "        )\n",
    "        \n",
    "        fig.add_trace(\n",
    "            go.Heatmap(\n",
    "                z=hm_,\n",
    "                x=[f'{i} {d_s[i]:.2f}' for i, x in enumerate(list(hm_.columns))],\n",
    "                y=[x.capitalize() for i, x in enumerate(list(hm_.index))],\n",
    "                colorscale=colorscale,\n",
    "                zmin=-1,\n",
    "                zmax=2\n",
    "            )\n",
    "        )\n",
    "\n",
    "\n",
    "        # fig.add_traces(go.Bar(x=[], y =[], name='TP',\n",
    "        #                  marker_color=color_tp))\n",
    "        # fig.add_traces(go.Bar(x=[], y =[], name='FP',\n",
    "        #                  marker_color=color_fp))\n",
    "        # fig.add_traces(go.Bar(x=[], y =[], name='TN',\n",
    "        #                  marker_color=color_tn))\n",
    "        # fig.add_traces(go.Bar(x=[], y =[], name='FN',\n",
    "        #                  marker_color=color_fn))\n",
    "        \n",
    "        fig.update_layout(\n",
    "            font_family=\"Courier New, monospace\",\n",
    "            font_color=\"black\",\n",
    "            title_font_family=\"Courier New, monospace\",\n",
    "            title_font_color=\"black\",\n",
    "            legend_title_font_color=\"black\",\n",
    "            font=dict(size=14),\n",
    "        )\n",
    "\n",
    "        fig.update_traces(\n",
    "          colorbar_tickmode='array',\n",
    "          colorbar_ticktext=['FP', 'TN', 'TP', 'FN'],\n",
    "          colorbar_tickvals=[-1, 0, 1, 2],\n",
    "          colorbar_tickangle=0,\n",
    "          selector=dict(type='heatmap')\n",
    "         )\n",
    "\n",
    "        fig.update_xaxes(ticklabelposition='outside')\n",
    "        \n",
    "        fig.update_xaxes(\n",
    "            tickson=\"boundaries\",\n",
    "            ticklen=5,\n",
    "            tickangle=90\n",
    "        )\n",
    "        fig.update_layout(\n",
    "             xaxis=dict(showgrid=True),\n",
    "             yaxis=dict(showgrid=True)\n",
    "        )\n",
    "        \n",
    "        fig.update_layout(xaxis=dict(domain=[0, 1]))\n",
    "        \n",
    "        hm_figs.append(fig)\n",
    "    \n",
    "\n",
    "    return hm_figs"
   ]
  },
  {
   "cell_type": "code",
   "execution_count": 44,
   "metadata": {
    "ExecuteTime": {
     "end_time": "2023-11-02T16:44:31.559096Z",
     "start_time": "2023-11-02T16:44:31.552878Z"
    },
    "collapsed": false,
    "jupyter": {
     "outputs_hidden": false
    }
   },
   "outputs": [
    {
     "name": "stdout",
     "output_type": "stream",
     "text": [
      "39\n"
     ]
    }
   ],
   "source": [
    "coco_common_obj = ['person', 'bicycle', 'car', 'motorcycle', 'bus', 'traffic signals', 'fire hydrant', 'stop sign',\n",
    "                   'bench', 'dog', 'chair', 'vegetation']\n",
    "\n",
    "pfb_common_obj = ['road', 'sidewalk', 'tree', 'vegetation', 'building', 'fence', 'traffic signals',\n",
    "                  'fire hydrant', 'chair', 'trash on roads', 'trash bins', 'person', 'car', 'motorcycle',\n",
    "                  'bus']\n",
    "\n",
    "ram_obj_map = {\n",
    "    'chair': 'chair',\n",
    "    'pillar': 'pillar',\n",
    "    'table': 'table',\n",
    "    'person': 'person',\n",
    "    'man': 'person',\n",
    "    'building': 'building',\n",
    "    'city street': 'road',\n",
    "    'curb': 'curb',\n",
    "    'pavement': 'sidewalk',\n",
    "    'road': 'road',\n",
    "    'car': 'car',\n",
    "    'snow': 'snow',\n",
    "    'doorway': 'sloped driveway',\n",
    "    'elevator': 'elevator',\n",
    "    'rail': 'train tracks',\n",
    "    'stair': 'stairs',\n",
    "    'cane': 'white cane',\n",
    "    'door': 'flush door',\n",
    "    'fence': 'fence',\n",
    "    'barrier': 'barrier post',\n",
    "    'bench': 'bench',\n",
    "    'sign': 'sign',\n",
    "    'bin': 'trash bins',\n",
    "    'pole': 'pole',\n",
    "    'street vendor': 'street vendor',\n",
    "    'blind': 'person with a disability',\n",
    "    'dog': 'dog',\n",
    "    'escalator': 'escalator',\n",
    "    'street sign': 'sign post',\n",
    "    'bus stop': 'bus stop',\n",
    "    'railway station': 'train platform',\n",
    "    'tree': 'tree',\n",
    "    'traffic light': 'traffic signals',\n",
    "    'tree trunk': 'tree',\n",
    "    'recycling bin': 'trash bins',\n",
    "    'train track': 'train tracks',\n",
    "    'pedestrian': 'person',\n",
    "    'bus': 'bus',\n",
    "    'city bus': 'bus',\n",
    "    'tour bus': 'bus',\n",
    "    'wall': 'wall',\n",
    "    'elevator door': 'elevator',\n",
    "    'bicycle': 'bicycle',\n",
    "    'crosswalk': 'crosswalk',\n",
    "    'decker bus': 'bus',\n",
    "    'motorcycle': 'motorcycle',\n",
    "    'motorcyclist': 'person',\n",
    "    'biker': 'person',\n",
    "    'motorbike': 'motorcycle',\n",
    "    'warning sign': 'sign',\n",
    "    'hydrant': 'fire hydrant',\n",
    "    'school bus': 'bus',\n",
    "    'vegetation': 'vegetation',\n",
    "    'fountain': 'fountain'\n",
    "}\n",
    "\n",
    "ram_com_obj = list(set(list(ram_obj_map.values())))\n",
    "\n",
    "print(len(ram_com_obj))"
   ]
  },
  {
   "cell_type": "code",
   "execution_count": 45,
   "metadata": {
    "ExecuteTime": {
     "end_time": "2023-11-02T16:48:46.583673Z",
     "start_time": "2023-11-02T16:48:46.557867Z"
    },
    "collapsed": false,
    "jupyter": {
     "outputs_hidden": false
    }
   },
   "outputs": [
    {
     "data": {
      "text/plain": [
       "19"
      ]
     },
     "execution_count": 45,
     "metadata": {},
     "output_type": "execute_result"
    }
   ],
   "source": [
    "gt_dir = gt_fol # \"/Users/imrankabir/Desktop/research/vqa_accessibility/Dashboard-For-VQA/Dashboard Data/GT_N\"\n",
    "\n",
    "gts = natsorted(os.listdir(gt_dir))\n",
    "\n",
    "skip_list = [\n",
    "    \"video-10-segment-1.csv\", \"video-9-segment-2.csv\"\n",
    "]\n",
    "\n",
    "gts = [x.split('.')[0] for x in gts if x.endswith('.csv') and int(x.split('-')[1])<=16 and x not in skip_list]\n",
    "\n",
    "# gts = ['video-1-segment-4']\n",
    "\n",
    "len(gts)"
   ]
  },
  {
   "cell_type": "code",
   "execution_count": 46,
   "metadata": {},
   "outputs": [
    {
     "data": {
      "text/plain": [
       "['bus',\n",
       " 'car',\n",
       " 'chair',\n",
       " 'fire hydrant',\n",
       " 'motorcycle',\n",
       " 'person',\n",
       " 'traffic signals',\n",
       " 'vegetation']"
      ]
     },
     "execution_count": 46,
     "metadata": {},
     "output_type": "execute_result"
    }
   ],
   "source": [
    "all_com = natsorted(list(set(ram_com_obj) & set(coco_common_obj) & set(pfb_common_obj)))\n",
    "all_com"
   ]
  },
  {
   "cell_type": "code",
   "execution_count": 47,
   "metadata": {
    "ExecuteTime": {
     "end_time": "2023-11-02T16:48:47.585561Z",
     "start_time": "2023-11-02T16:48:47.580375Z"
    },
    "collapsed": false,
    "jupyter": {
     "outputs_hidden": false
    }
   },
   "outputs": [],
   "source": [
    "models = {\n",
    "    'GT_N': 'all_com',\n",
    "    'BLIP': 'all_com',\n",
    "    'GPV-1': 'all_com',\n",
    "    'RAM': 'all_com',\n",
    "    'yolo_v7': 'all_com',\n",
    "    'HRNet_V2': 'all_com',\n",
    "    'mask_rcnn': 'all_com',\n",
    "    'faster_rcnn': 'all_com'\n",
    "}\n",
    "# models = {\n",
    "#     'GPV-1': 'all_com',\n",
    "# }\n",
    "\n",
    "models = {\n",
    "    'GT_N': 'all_com',\n",
    "    'BLIP': 'all_com',\n",
    "    'GPV-1': 'all_com',\n",
    "    'RAM': 'all_com',\n",
    "    'yolo_v7': 'all_com',\n",
    "    'mask_rcnn': 'all_com',\n",
    "    'faster_rcnn': 'all_com'\n",
    "}"
   ]
  },
  {
   "cell_type": "code",
   "execution_count": 48,
   "metadata": {
    "ExecuteTime": {
     "end_time": "2023-11-02T16:52:26.013100Z",
     "start_time": "2023-11-02T16:49:30.640969Z"
    },
    "collapsed": false,
    "jupyter": {
     "outputs_hidden": false
    }
   },
   "outputs": [],
   "source": [
    "vid_wise_ent = {\n",
    "    'Models': gts\n",
    "}\n",
    "\n",
    "vid_wise_prec = {\n",
    "    'Models': gts\n",
    "}\n",
    "out_plot_path = './heat_maps'\n",
    "\n",
    "workbook = Workbook()\n",
    "worksheet = workbook.active\n",
    "\n",
    "row = 2\n",
    "\n",
    "pickle_pth = 'all_sims.pickle'\n",
    "\n",
    "with open(pickle_pth, 'rb') as db_f:\n",
    "    sim_dict_pkl = pickle.load(db_f)\n",
    "\n",
    "for mod_ind, model_ in enumerate(models.keys()):\n",
    "    ents_all_vid = []\n",
    "    ents_all_vid_normal = []\n",
    "    ps_all_vid = []\n",
    "    col = 2\n",
    "    worksheet.row_dimensions[row].height = 195\n",
    "    worksheet.cell(row=row, column=1).value = model_\n",
    "    worksheet.cell(row=row, column=1).alignment = Alignment(horizontal='center', vertical='center')\n",
    "\n",
    "    for gt in gts:    \n",
    "        v_ = int(gt.split('-')[1])\n",
    "        s_ = int(gt.split('-')[3])\n",
    "        \n",
    "        if mod_ind == 0:\n",
    "            worksheet.cell(row=1, column=col).value = f'Video {v_} Segment {s_}'\n",
    "            worksheet.cell(row=1, column=col).alignment = Alignment(horizontal='center', vertical='center')\n",
    "            \n",
    "        p_s, e_, p_s_i, e_i, d_i_s = get_st_p_ent(v_, s_, images_dir, eval(models[model_]), model_, sim_dict_pkl)\n",
    "\n",
    "        ents_all_vid.append(e_i)\n",
    "        ents_all_vid_normal.append(e_)\n",
    "        # print(e_i, p_s_i)\n",
    "\n",
    "        pred_fol = os.path.join(data_path, model_)\n",
    "        p_ = calculate_model_map(\n",
    "            gt_fol, [f'{gt}.csv'], pred_fol, \n",
    "            obj_list=eval(models[model_])\n",
    "        )\n",
    "        ps_all_vid.append(p_)\n",
    "        hm_p = gen_heat_map(\n",
    "            gt_fol, [f'{gt}.csv'], pred_fol, \n",
    "            obj_list=eval(models[model_]), d_s=d_i_s\n",
    "        )[0]\n",
    "        hm_p.update_layout(\n",
    "            title=dict(text=f\"mAP={p_:.2f}, mENT={e_i:.2f}\", font=dict(size=16), automargin=True, yref='paper')\n",
    "        )\n",
    "\n",
    "        img_out_name = os.path.join(out_plot_path, f'{model_}_v{v_}s{s_}_mAP_{p_:.2f}_mENT_{e_i:.2f}.png')\n",
    "\n",
    "        hm_p.write_image(\n",
    "            img_out_name,\n",
    "            format='png'\n",
    "        )\n",
    "\n",
    "        worksheet.column_dimensions[get_column_letter(col)].width = 128\n",
    "\n",
    "        anchor = f'{get_column_letter(col)}{row}'\n",
    "        # worksheet.add_image(Image_openpyxl(img_out_name), anchor=anchor)\n",
    "        img = Image_openpyxl(img_out_name) \n",
    "\n",
    "        worksheet.add_image(img, anchor=anchor)\n",
    "    \n",
    "        col = col + 1\n",
    "        \n",
    "    if model_ == 'GT_N':\n",
    "        vid_wise_ent[f\"{model_} (with lpips)\"] = ents_all_vid\n",
    "        vid_wise_ent[f\"{model_} (without lpips)\"] = ents_all_vid_normal\n",
    "    else:\n",
    "        vid_wise_ent[model_] = ents_all_vid\n",
    "         \n",
    "    vid_wise_prec[model_] = ps_all_vid\n",
    "    row = row + 1\n",
    "\n",
    "workbook.save('investigate_entropy.xlsx')"
   ]
  },
  {
   "cell_type": "code",
   "execution_count": 24,
   "metadata": {
    "ExecuteTime": {
     "end_time": "2023-11-02T16:55:48.262349Z",
     "start_time": "2023-11-02T16:55:48.258222Z"
    },
    "collapsed": false,
    "jupyter": {
     "outputs_hidden": false
    }
   },
   "outputs": [],
   "source": [
    "vid_wise_model_ent_df = pd.DataFrame(vid_wise_ent).transpose()\n",
    "vid_wise_model_ent_df.columns = vid_wise_model_ent_df.iloc[0]\n",
    "vid_wise_model_ent_df = vid_wise_model_ent_df.iloc[1:]"
   ]
  },
  {
   "cell_type": "code",
   "execution_count": 67,
   "metadata": {},
   "outputs": [],
   "source": [
    "ssdf = pd.DataFrame(vid_wise_ent) # .sort_values(by=['GT_N (with lpips)'])\n",
    "for col in list(ssdf.columns)[1:]:\n",
    "    ssdf[col] = ssdf[col].round(2)\n",
    "# ssdf['GT_N (without lpips)'] = ssdf['GT_N (without lpips)'].round(2)\n",
    "ssdf = ssdf.transpose()\n",
    "ssdf.columns = [f'V{cc.split(\"-\")[1]}S{cc.split(\"-\")[3]}' for cc in ssdf.iloc[0]]\n",
    "ssdf = ssdf.iloc[1:]"
   ]
  },
  {
   "cell_type": "code",
   "execution_count": 68,
   "metadata": {},
   "outputs": [
    {
     "data": {
      "text/html": [
       "<div>\n",
       "<style scoped>\n",
       "    .dataframe tbody tr th:only-of-type {\n",
       "        vertical-align: middle;\n",
       "    }\n",
       "\n",
       "    .dataframe tbody tr th {\n",
       "        vertical-align: top;\n",
       "    }\n",
       "\n",
       "    .dataframe thead th {\n",
       "        text-align: right;\n",
       "    }\n",
       "</style>\n",
       "<table border=\"1\" class=\"dataframe\">\n",
       "  <thead>\n",
       "    <tr style=\"text-align: right;\">\n",
       "      <th></th>\n",
       "      <th>V1S4</th>\n",
       "      <th>V1S5</th>\n",
       "      <th>V2S1</th>\n",
       "      <th>V3S2</th>\n",
       "      <th>V3S3</th>\n",
       "      <th>V4S1</th>\n",
       "      <th>V4S3</th>\n",
       "      <th>V4S4</th>\n",
       "      <th>V5S1</th>\n",
       "      <th>V6S2</th>\n",
       "      <th>V7S2</th>\n",
       "      <th>V8S2</th>\n",
       "      <th>V11S1</th>\n",
       "      <th>V12S4</th>\n",
       "      <th>V13S2</th>\n",
       "      <th>V14S1</th>\n",
       "      <th>V14S4</th>\n",
       "      <th>V15S3</th>\n",
       "      <th>V16S3</th>\n",
       "    </tr>\n",
       "  </thead>\n",
       "  <tbody>\n",
       "    <tr>\n",
       "      <th>GT_N (with lpips)</th>\n",
       "      <td>0.12</td>\n",
       "      <td>0.02</td>\n",
       "      <td>0.21</td>\n",
       "      <td>0.06</td>\n",
       "      <td>0.02</td>\n",
       "      <td>0.26</td>\n",
       "      <td>0.01</td>\n",
       "      <td>0.18</td>\n",
       "      <td>0.05</td>\n",
       "      <td>0.04</td>\n",
       "      <td>0.23</td>\n",
       "      <td>0.0</td>\n",
       "      <td>0.02</td>\n",
       "      <td>0.03</td>\n",
       "      <td>0.12</td>\n",
       "      <td>0.03</td>\n",
       "      <td>0.0</td>\n",
       "      <td>0.0</td>\n",
       "      <td>0.09</td>\n",
       "    </tr>\n",
       "    <tr>\n",
       "      <th>GT_N (without lpips)</th>\n",
       "      <td>1.0</td>\n",
       "      <td>0.89</td>\n",
       "      <td>0.83</td>\n",
       "      <td>0.41</td>\n",
       "      <td>0.82</td>\n",
       "      <td>0.94</td>\n",
       "      <td>0.99</td>\n",
       "      <td>0.56</td>\n",
       "      <td>0.4</td>\n",
       "      <td>0.3</td>\n",
       "      <td>0.95</td>\n",
       "      <td>0.0</td>\n",
       "      <td>0.79</td>\n",
       "      <td>0.89</td>\n",
       "      <td>0.76</td>\n",
       "      <td>0.57</td>\n",
       "      <td>0.52</td>\n",
       "      <td>0.0</td>\n",
       "      <td>0.52</td>\n",
       "    </tr>\n",
       "    <tr>\n",
       "      <th>BLIP</th>\n",
       "      <td>0.15</td>\n",
       "      <td>0.02</td>\n",
       "      <td>0.38</td>\n",
       "      <td>0.02</td>\n",
       "      <td>0.3</td>\n",
       "      <td>0.34</td>\n",
       "      <td>0.36</td>\n",
       "      <td>0.28</td>\n",
       "      <td>0.07</td>\n",
       "      <td>0.16</td>\n",
       "      <td>0.33</td>\n",
       "      <td>0.13</td>\n",
       "      <td>0.03</td>\n",
       "      <td>0.09</td>\n",
       "      <td>0.06</td>\n",
       "      <td>0.04</td>\n",
       "      <td>0.34</td>\n",
       "      <td>0.09</td>\n",
       "      <td>0.09</td>\n",
       "    </tr>\n",
       "    <tr>\n",
       "      <th>GPV-1</th>\n",
       "      <td>0.13</td>\n",
       "      <td>0.36</td>\n",
       "      <td>0.42</td>\n",
       "      <td>0.18</td>\n",
       "      <td>0.34</td>\n",
       "      <td>0.4</td>\n",
       "      <td>0.28</td>\n",
       "      <td>0.22</td>\n",
       "      <td>0.29</td>\n",
       "      <td>0.31</td>\n",
       "      <td>0.39</td>\n",
       "      <td>0.34</td>\n",
       "      <td>0.22</td>\n",
       "      <td>0.12</td>\n",
       "      <td>0.19</td>\n",
       "      <td>0.31</td>\n",
       "      <td>0.24</td>\n",
       "      <td>0.08</td>\n",
       "      <td>0.16</td>\n",
       "    </tr>\n",
       "    <tr>\n",
       "      <th>RAM</th>\n",
       "      <td>0.0</td>\n",
       "      <td>0.17</td>\n",
       "      <td>0.01</td>\n",
       "      <td>0.11</td>\n",
       "      <td>0.11</td>\n",
       "      <td>0.21</td>\n",
       "      <td>0.06</td>\n",
       "      <td>0.07</td>\n",
       "      <td>0.05</td>\n",
       "      <td>0.06</td>\n",
       "      <td>0.2</td>\n",
       "      <td>0.04</td>\n",
       "      <td>0.09</td>\n",
       "      <td>0.13</td>\n",
       "      <td>0.08</td>\n",
       "      <td>0.0</td>\n",
       "      <td>0.12</td>\n",
       "      <td>0.07</td>\n",
       "      <td>0.0</td>\n",
       "    </tr>\n",
       "    <tr>\n",
       "      <th>yolo_v7</th>\n",
       "      <td>0.1</td>\n",
       "      <td>0.2</td>\n",
       "      <td>0.18</td>\n",
       "      <td>0.0</td>\n",
       "      <td>0.12</td>\n",
       "      <td>0.24</td>\n",
       "      <td>0.1</td>\n",
       "      <td>0.06</td>\n",
       "      <td>0.03</td>\n",
       "      <td>0.04</td>\n",
       "      <td>0.12</td>\n",
       "      <td>0.09</td>\n",
       "      <td>0.18</td>\n",
       "      <td>0.02</td>\n",
       "      <td>0.03</td>\n",
       "      <td>0.07</td>\n",
       "      <td>0.1</td>\n",
       "      <td>0.01</td>\n",
       "      <td>0.06</td>\n",
       "    </tr>\n",
       "    <tr>\n",
       "      <th>mask_rcnn</th>\n",
       "      <td>0.16</td>\n",
       "      <td>0.41</td>\n",
       "      <td>0.45</td>\n",
       "      <td>0.3</td>\n",
       "      <td>0.19</td>\n",
       "      <td>0.31</td>\n",
       "      <td>0.34</td>\n",
       "      <td>0.36</td>\n",
       "      <td>0.22</td>\n",
       "      <td>0.16</td>\n",
       "      <td>0.16</td>\n",
       "      <td>0.38</td>\n",
       "      <td>0.32</td>\n",
       "      <td>0.11</td>\n",
       "      <td>0.13</td>\n",
       "      <td>0.03</td>\n",
       "      <td>0.37</td>\n",
       "      <td>0.27</td>\n",
       "      <td>0.28</td>\n",
       "    </tr>\n",
       "    <tr>\n",
       "      <th>faster_rcnn</th>\n",
       "      <td>0.35</td>\n",
       "      <td>0.34</td>\n",
       "      <td>0.37</td>\n",
       "      <td>0.26</td>\n",
       "      <td>0.36</td>\n",
       "      <td>0.32</td>\n",
       "      <td>0.34</td>\n",
       "      <td>0.33</td>\n",
       "      <td>0.22</td>\n",
       "      <td>0.13</td>\n",
       "      <td>0.43</td>\n",
       "      <td>0.34</td>\n",
       "      <td>0.33</td>\n",
       "      <td>0.18</td>\n",
       "      <td>0.3</td>\n",
       "      <td>0.04</td>\n",
       "      <td>0.35</td>\n",
       "      <td>0.32</td>\n",
       "      <td>0.21</td>\n",
       "    </tr>\n",
       "  </tbody>\n",
       "</table>\n",
       "</div>"
      ],
      "text/plain": [
       "                      V1S4  V1S5  V2S1  V3S2  V3S3  V4S1  V4S3  V4S4  V5S1  \\\n",
       "GT_N (with lpips)     0.12  0.02  0.21  0.06  0.02  0.26  0.01  0.18  0.05   \n",
       "GT_N (without lpips)   1.0  0.89  0.83  0.41  0.82  0.94  0.99  0.56   0.4   \n",
       "BLIP                  0.15  0.02  0.38  0.02   0.3  0.34  0.36  0.28  0.07   \n",
       "GPV-1                 0.13  0.36  0.42  0.18  0.34   0.4  0.28  0.22  0.29   \n",
       "RAM                    0.0  0.17  0.01  0.11  0.11  0.21  0.06  0.07  0.05   \n",
       "yolo_v7                0.1   0.2  0.18   0.0  0.12  0.24   0.1  0.06  0.03   \n",
       "mask_rcnn             0.16  0.41  0.45   0.3  0.19  0.31  0.34  0.36  0.22   \n",
       "faster_rcnn           0.35  0.34  0.37  0.26  0.36  0.32  0.34  0.33  0.22   \n",
       "\n",
       "                      V6S2  V7S2  V8S2 V11S1 V12S4 V13S2 V14S1 V14S4 V15S3  \\\n",
       "GT_N (with lpips)     0.04  0.23   0.0  0.02  0.03  0.12  0.03   0.0   0.0   \n",
       "GT_N (without lpips)   0.3  0.95   0.0  0.79  0.89  0.76  0.57  0.52   0.0   \n",
       "BLIP                  0.16  0.33  0.13  0.03  0.09  0.06  0.04  0.34  0.09   \n",
       "GPV-1                 0.31  0.39  0.34  0.22  0.12  0.19  0.31  0.24  0.08   \n",
       "RAM                   0.06   0.2  0.04  0.09  0.13  0.08   0.0  0.12  0.07   \n",
       "yolo_v7               0.04  0.12  0.09  0.18  0.02  0.03  0.07   0.1  0.01   \n",
       "mask_rcnn             0.16  0.16  0.38  0.32  0.11  0.13  0.03  0.37  0.27   \n",
       "faster_rcnn           0.13  0.43  0.34  0.33  0.18   0.3  0.04  0.35  0.32   \n",
       "\n",
       "                     V16S3  \n",
       "GT_N (with lpips)     0.09  \n",
       "GT_N (without lpips)  0.52  \n",
       "BLIP                  0.09  \n",
       "GPV-1                 0.16  \n",
       "RAM                    0.0  \n",
       "yolo_v7               0.06  \n",
       "mask_rcnn             0.28  \n",
       "faster_rcnn           0.21  "
      ]
     },
     "execution_count": 68,
     "metadata": {},
     "output_type": "execute_result"
    }
   ],
   "source": [
    "ssdf"
   ]
  },
  {
   "cell_type": "code",
   "execution_count": 69,
   "metadata": {},
   "outputs": [],
   "source": [
    "vid_wise_model_prec_df = pd.DataFrame(vid_wise_prec).transpose()\n",
    "vid_wise_model_prec_df.columns = vid_wise_model_prec_df.iloc[0]\n",
    "vid_wise_model_prec_df = vid_wise_model_prec_df.iloc[1:]"
   ]
  },
  {
   "cell_type": "code",
   "execution_count": 70,
   "metadata": {},
   "outputs": [
    {
     "data": {
      "text/html": [
       "<div>\n",
       "<style scoped>\n",
       "    .dataframe tbody tr th:only-of-type {\n",
       "        vertical-align: middle;\n",
       "    }\n",
       "\n",
       "    .dataframe tbody tr th {\n",
       "        vertical-align: top;\n",
       "    }\n",
       "\n",
       "    .dataframe thead th {\n",
       "        text-align: right;\n",
       "    }\n",
       "</style>\n",
       "<table border=\"1\" class=\"dataframe\">\n",
       "  <thead>\n",
       "    <tr style=\"text-align: right;\">\n",
       "      <th>Models</th>\n",
       "      <th>video-1-segment-4</th>\n",
       "      <th>video-1-segment-5</th>\n",
       "      <th>video-2-segment-1</th>\n",
       "      <th>video-3-segment-2</th>\n",
       "      <th>video-3-segment-3</th>\n",
       "      <th>video-4-segment-1</th>\n",
       "      <th>video-4-segment-3</th>\n",
       "      <th>video-4-segment-4</th>\n",
       "      <th>video-5-segment-1</th>\n",
       "      <th>video-6-segment-2</th>\n",
       "      <th>video-7-segment-2</th>\n",
       "      <th>video-8-segment-2</th>\n",
       "      <th>video-11-segment-1</th>\n",
       "      <th>video-12-segment-4</th>\n",
       "      <th>video-13-segment-2</th>\n",
       "      <th>video-14-segment-1</th>\n",
       "      <th>video-14-segment-4</th>\n",
       "      <th>video-15-segment-3</th>\n",
       "      <th>video-16-segment-3</th>\n",
       "    </tr>\n",
       "  </thead>\n",
       "  <tbody>\n",
       "    <tr>\n",
       "      <th>GT_N</th>\n",
       "      <td>1.0</td>\n",
       "      <td>1.0</td>\n",
       "      <td>1.0</td>\n",
       "      <td>1.0</td>\n",
       "      <td>1.0</td>\n",
       "      <td>1.0</td>\n",
       "      <td>1.0</td>\n",
       "      <td>1.0</td>\n",
       "      <td>1.0</td>\n",
       "      <td>1.0</td>\n",
       "      <td>1.0</td>\n",
       "      <td>1.0</td>\n",
       "      <td>1.0</td>\n",
       "      <td>1.0</td>\n",
       "      <td>1.0</td>\n",
       "      <td>1.0</td>\n",
       "      <td>1.0</td>\n",
       "      <td>1.0</td>\n",
       "      <td>1.0</td>\n",
       "    </tr>\n",
       "    <tr>\n",
       "      <th>BLIP</th>\n",
       "      <td>0.857143</td>\n",
       "      <td>0.875</td>\n",
       "      <td>0.723881</td>\n",
       "      <td>0.705882</td>\n",
       "      <td>0.870968</td>\n",
       "      <td>0.846154</td>\n",
       "      <td>0.57971</td>\n",
       "      <td>0.8</td>\n",
       "      <td>0.766667</td>\n",
       "      <td>0.588235</td>\n",
       "      <td>0.789474</td>\n",
       "      <td>0.564516</td>\n",
       "      <td>0.849057</td>\n",
       "      <td>0.913043</td>\n",
       "      <td>0.890244</td>\n",
       "      <td>0.816327</td>\n",
       "      <td>0.652174</td>\n",
       "      <td>0.9375</td>\n",
       "      <td>0.676471</td>\n",
       "    </tr>\n",
       "    <tr>\n",
       "      <th>GPV-1</th>\n",
       "      <td>0.920635</td>\n",
       "      <td>0.625</td>\n",
       "      <td>0.839286</td>\n",
       "      <td>0.827586</td>\n",
       "      <td>0.729927</td>\n",
       "      <td>0.657895</td>\n",
       "      <td>0.818182</td>\n",
       "      <td>0.705263</td>\n",
       "      <td>0.396552</td>\n",
       "      <td>0.588235</td>\n",
       "      <td>0.763158</td>\n",
       "      <td>0.522388</td>\n",
       "      <td>0.612903</td>\n",
       "      <td>0.890625</td>\n",
       "      <td>0.925</td>\n",
       "      <td>0.784314</td>\n",
       "      <td>0.689655</td>\n",
       "      <td>0.795918</td>\n",
       "      <td>0.971429</td>\n",
       "    </tr>\n",
       "    <tr>\n",
       "      <th>RAM</th>\n",
       "      <td>1.0</td>\n",
       "      <td>0.954545</td>\n",
       "      <td>1.0</td>\n",
       "      <td>1.0</td>\n",
       "      <td>1.0</td>\n",
       "      <td>1.0</td>\n",
       "      <td>1.0</td>\n",
       "      <td>0.967213</td>\n",
       "      <td>0.956522</td>\n",
       "      <td>1.0</td>\n",
       "      <td>1.0</td>\n",
       "      <td>0.945946</td>\n",
       "      <td>0.956522</td>\n",
       "      <td>1.0</td>\n",
       "      <td>0.925</td>\n",
       "      <td>1.0</td>\n",
       "      <td>1.0</td>\n",
       "      <td>1.0</td>\n",
       "      <td>1.0</td>\n",
       "    </tr>\n",
       "    <tr>\n",
       "      <th>yolo_v7</th>\n",
       "      <td>1.0</td>\n",
       "      <td>0.8</td>\n",
       "      <td>0.916667</td>\n",
       "      <td>1.0</td>\n",
       "      <td>1.0</td>\n",
       "      <td>1.0</td>\n",
       "      <td>1.0</td>\n",
       "      <td>0.958904</td>\n",
       "      <td>0.958333</td>\n",
       "      <td>1.0</td>\n",
       "      <td>0.958333</td>\n",
       "      <td>0.918919</td>\n",
       "      <td>0.880952</td>\n",
       "      <td>1.0</td>\n",
       "      <td>0.945946</td>\n",
       "      <td>1.0</td>\n",
       "      <td>0.916667</td>\n",
       "      <td>0.944444</td>\n",
       "      <td>1.0</td>\n",
       "    </tr>\n",
       "    <tr>\n",
       "      <th>mask_rcnn</th>\n",
       "      <td>0.777778</td>\n",
       "      <td>0.416667</td>\n",
       "      <td>0.677632</td>\n",
       "      <td>0.638889</td>\n",
       "      <td>0.569832</td>\n",
       "      <td>0.658537</td>\n",
       "      <td>0.76</td>\n",
       "      <td>0.606061</td>\n",
       "      <td>0.657143</td>\n",
       "      <td>0.7</td>\n",
       "      <td>0.658537</td>\n",
       "      <td>0.376344</td>\n",
       "      <td>0.513158</td>\n",
       "      <td>0.866667</td>\n",
       "      <td>0.8</td>\n",
       "      <td>0.682927</td>\n",
       "      <td>0.535714</td>\n",
       "      <td>0.784314</td>\n",
       "      <td>0.825</td>\n",
       "    </tr>\n",
       "    <tr>\n",
       "      <th>faster_rcnn</th>\n",
       "      <td>0.724138</td>\n",
       "      <td>0.488372</td>\n",
       "      <td>0.660377</td>\n",
       "      <td>0.75</td>\n",
       "      <td>0.618182</td>\n",
       "      <td>0.7</td>\n",
       "      <td>0.804348</td>\n",
       "      <td>0.621212</td>\n",
       "      <td>0.638889</td>\n",
       "      <td>0.8</td>\n",
       "      <td>0.666667</td>\n",
       "      <td>0.406977</td>\n",
       "      <td>0.541667</td>\n",
       "      <td>0.753623</td>\n",
       "      <td>0.744898</td>\n",
       "      <td>0.651163</td>\n",
       "      <td>0.466667</td>\n",
       "      <td>0.788462</td>\n",
       "      <td>0.755556</td>\n",
       "    </tr>\n",
       "  </tbody>\n",
       "</table>\n",
       "</div>"
      ],
      "text/plain": [
       "Models      video-1-segment-4 video-1-segment-5 video-2-segment-1  \\\n",
       "GT_N                      1.0               1.0               1.0   \n",
       "BLIP                 0.857143             0.875          0.723881   \n",
       "GPV-1                0.920635             0.625          0.839286   \n",
       "RAM                       1.0          0.954545               1.0   \n",
       "yolo_v7                   1.0               0.8          0.916667   \n",
       "mask_rcnn            0.777778          0.416667          0.677632   \n",
       "faster_rcnn          0.724138          0.488372          0.660377   \n",
       "\n",
       "Models      video-3-segment-2 video-3-segment-3 video-4-segment-1  \\\n",
       "GT_N                      1.0               1.0               1.0   \n",
       "BLIP                 0.705882          0.870968          0.846154   \n",
       "GPV-1                0.827586          0.729927          0.657895   \n",
       "RAM                       1.0               1.0               1.0   \n",
       "yolo_v7                   1.0               1.0               1.0   \n",
       "mask_rcnn            0.638889          0.569832          0.658537   \n",
       "faster_rcnn              0.75          0.618182               0.7   \n",
       "\n",
       "Models      video-4-segment-3 video-4-segment-4 video-5-segment-1  \\\n",
       "GT_N                      1.0               1.0               1.0   \n",
       "BLIP                  0.57971               0.8          0.766667   \n",
       "GPV-1                0.818182          0.705263          0.396552   \n",
       "RAM                       1.0          0.967213          0.956522   \n",
       "yolo_v7                   1.0          0.958904          0.958333   \n",
       "mask_rcnn                0.76          0.606061          0.657143   \n",
       "faster_rcnn          0.804348          0.621212          0.638889   \n",
       "\n",
       "Models      video-6-segment-2 video-7-segment-2 video-8-segment-2  \\\n",
       "GT_N                      1.0               1.0               1.0   \n",
       "BLIP                 0.588235          0.789474          0.564516   \n",
       "GPV-1                0.588235          0.763158          0.522388   \n",
       "RAM                       1.0               1.0          0.945946   \n",
       "yolo_v7                   1.0          0.958333          0.918919   \n",
       "mask_rcnn                 0.7          0.658537          0.376344   \n",
       "faster_rcnn               0.8          0.666667          0.406977   \n",
       "\n",
       "Models      video-11-segment-1 video-12-segment-4 video-13-segment-2  \\\n",
       "GT_N                       1.0                1.0                1.0   \n",
       "BLIP                  0.849057           0.913043           0.890244   \n",
       "GPV-1                 0.612903           0.890625              0.925   \n",
       "RAM                   0.956522                1.0              0.925   \n",
       "yolo_v7               0.880952                1.0           0.945946   \n",
       "mask_rcnn             0.513158           0.866667                0.8   \n",
       "faster_rcnn           0.541667           0.753623           0.744898   \n",
       "\n",
       "Models      video-14-segment-1 video-14-segment-4 video-15-segment-3  \\\n",
       "GT_N                       1.0                1.0                1.0   \n",
       "BLIP                  0.816327           0.652174             0.9375   \n",
       "GPV-1                 0.784314           0.689655           0.795918   \n",
       "RAM                        1.0                1.0                1.0   \n",
       "yolo_v7                    1.0           0.916667           0.944444   \n",
       "mask_rcnn             0.682927           0.535714           0.784314   \n",
       "faster_rcnn           0.651163           0.466667           0.788462   \n",
       "\n",
       "Models      video-16-segment-3  \n",
       "GT_N                       1.0  \n",
       "BLIP                  0.676471  \n",
       "GPV-1                 0.971429  \n",
       "RAM                        1.0  \n",
       "yolo_v7                    1.0  \n",
       "mask_rcnn                0.825  \n",
       "faster_rcnn           0.755556  "
      ]
     },
     "execution_count": 70,
     "metadata": {},
     "output_type": "execute_result"
    }
   ],
   "source": [
    "vid_wise_model_prec_df"
   ]
  },
  {
   "cell_type": "code",
   "execution_count": 494,
   "metadata": {},
   "outputs": [
    {
     "data": {
      "text/plain": [
       "{'GT_N (with lpips)': 0.051663781532568766,\n",
       " 'BLIP': 0.14159848986931098,\n",
       " 'GPV-1': 0.22291720568408296,\n",
       " 'RAM': 0.07146169355230973,\n",
       " 'yolo_v7': 0.08006730172233383,\n",
       " 'mask_rcnn': 0.24048429600523616,\n",
       " 'faster_rcnn': 0.25397381019256615}"
      ]
     },
     "execution_count": 494,
     "metadata": {},
     "output_type": "execute_result"
    }
   ],
   "source": [
    "mEnt = {}\n",
    "\n",
    "for key in dict(vid_wise_model_ent_df.mean(axis='columns')):\n",
    "    if key in ['HRNet_V2', 'GT_N (without lpips)']: # , 'GT_N (with lpips)'\n",
    "        continue\n",
    "    mEnt[key] = dict(vid_wise_model_ent_df.mean(axis='columns'))[key]\n",
    "\n",
    "mEnt"
   ]
  },
  {
   "cell_type": "code",
   "execution_count": 495,
   "metadata": {
    "collapsed": false,
    "jupyter": {
     "outputs_hidden": false
    }
   },
   "outputs": [],
   "source": [
    "mAP = {\n",
    "    'GT_N (with lpips)': 1.0,\n",
    "    'BLIP': 0.79,\n",
    "    'GPV-1': 0.75,\n",
    "    'RAM': 0.98,\n",
    "    'yolo_v7': 0.96,\n",
    "    'mask_rcnn': 0.64,\n",
    "    'faster_rcnn': 0.65\n",
    "}\n",
    "\n",
    "#     'HRNet_V2': 0.59,\n",
    "\n",
    "mF1 = {\n",
    "    'BLIP': 0.28,\n",
    "    'GPV-1': 0.23,\n",
    "    'RAM': 0.24,\n",
    "    'yolo_v7': 0.54,\n",
    "    'mask_rcnn': 0.41,\n",
    "    'faster_rcnn': 0.42\n",
    "}\n",
    "\n",
    "#    'HRNet_V2': 0.36,"
   ]
  },
  {
   "cell_type": "code",
   "execution_count": 496,
   "metadata": {},
   "outputs": [
    {
     "name": "stdout",
     "output_type": "stream",
     "text": [
      "pearson:  PearsonRResult(statistic=-0.977493314759631, pvalue=0.00014420360580373682)\n",
      "spearman:  SignificanceResult(statistic=-0.9642857142857145, pvalue=0.0004541491691941689)\n",
      "kendall:  SignificanceResult(statistic=-0.9047619047619049, pvalue=0.002777777777777778)\n"
     ]
    },
    {
     "data": {
      "image/png": "[encoded data removed]",
      "text/plain": [
       "<Figure size 640x480 with 1 Axes>"
      ]
     },
     "metadata": {},
     "output_type": "display_data"
    }
   ],
   "source": [
    "x, y = np.array(list(mAP.values())), np.array(list(mEnt.values()))\n",
    "print(\"pearson: \", scipy.stats.pearsonr(x, y))\n",
    "print(\"spearman: \", scipy.stats.spearmanr(x, y))\n",
    "print(\"kendall: \", scipy.stats.kendalltau(x, y))\n",
    "slope, intercept, r, p, stderr = scipy.stats.linregress(x, y)\n",
    "line = f'Regression line: y={intercept:.2f}-{abs(slope):.2f}x'\n",
    "fig, ax = plt.subplots()\n",
    "ax.plot(x, y, linewidth=0, marker='s', label='Data points')\n",
    "for i, txt in enumerate(mAP.keys()):\n",
    "    ax.annotate(txt, (x[i], y[i]))\n",
    "ax.plot(x, intercept + slope * x, label=line)\n",
    "ax.set_xlabel('mAP')\n",
    "ax.set_ylabel('1-mEnt')\n",
    "ax.legend(facecolor='white')\n",
    "# plt.xlim(0.18, 0.7)\n",
    "# plt.ylim(0.36, 0.55)\n",
    "plt.show()"
   ]
  },
  {
   "cell_type": "code",
   "execution_count": 364,
   "metadata": {},
   "outputs": [
    {
     "name": "stdout",
     "output_type": "stream",
     "text": [
      "pearson:  PearsonRResult(statistic=0.046031022482007196, pvalue=0.931002232808767)\n",
      "spearman:  SignificanceResult(statistic=0.2, pvalue=0.704)\n",
      "kendall:  SignificanceResult(statistic=0.2, pvalue=0.7194444444444444)\n"
     ]
    },
    {
     "data": {
      "image/png": "[encoded data removed]",
      "text/plain": [
       "<Figure size 640x480 with 1 Axes>"
      ]
     },
     "metadata": {},
     "output_type": "display_data"
    }
   ],
   "source": [
    "x, y = np.array(list(mF1.values())), np.array(list(mEnt.values()))\n",
    "print(\"pearson: \", scipy.stats.pearsonr(x, y))\n",
    "print(\"spearman: \", scipy.stats.spearmanr(x, y))\n",
    "print(\"kendall: \", scipy.stats.kendalltau(x, y))\n",
    "slope, intercept, r, p, stderr = scipy.stats.linregress(x, y)\n",
    "line = f'Regression line: y={intercept:.2f}+{slope:.2f}x, r={r:.2f}'\n",
    "fig, ax = plt.subplots()\n",
    "ax.plot(x, y, linewidth=0, marker='s', label='Data points')\n",
    "for i, txt in enumerate(mAP.keys()):\n",
    "    ax.annotate(txt, (x[i], y[i]))\n",
    "ax.plot(x, intercept + slope * x, label=line)\n",
    "ax.set_xlabel('mAP')\n",
    "ax.set_ylabel('mEnt')\n",
    "ax.legend(facecolor='white')\n",
    "# plt.xlim(0.18, 0.7)\n",
    "# plt.ylim(0.36, 0.55)\n",
    "plt.show()"
   ]
  },
  {
   "cell_type": "code",
   "execution_count": 182,
   "metadata": {},
   "outputs": [
    {
     "data": {
      "text/html": [
       "<div>\n",
       "<style scoped>\n",
       "    .dataframe tbody tr th:only-of-type {\n",
       "        vertical-align: middle;\n",
       "    }\n",
       "\n",
       "    .dataframe tbody tr th {\n",
       "        vertical-align: top;\n",
       "    }\n",
       "\n",
       "    .dataframe thead th {\n",
       "        text-align: right;\n",
       "    }\n",
       "</style>\n",
       "<table border=\"1\" class=\"dataframe\">\n",
       "  <thead>\n",
       "    <tr style=\"text-align: right;\">\n",
       "      <th></th>\n",
       "      <th>Object</th>\n",
       "      <th>Frame-0</th>\n",
       "      <th>Frame-1</th>\n",
       "      <th>Frame-2</th>\n",
       "      <th>Frame-3</th>\n",
       "      <th>Frame-4</th>\n",
       "      <th>Frame-5</th>\n",
       "      <th>Frame-6</th>\n",
       "      <th>Frame-7</th>\n",
       "      <th>Frame-8</th>\n",
       "      <th>Frame-9</th>\n",
       "      <th>Frame-10</th>\n",
       "      <th>Frame-11</th>\n",
       "    </tr>\n",
       "  </thead>\n",
       "  <tbody>\n",
       "    <tr>\n",
       "      <th>0</th>\n",
       "      <td>Accent Paving</td>\n",
       "      <td>1</td>\n",
       "      <td>1</td>\n",
       "      <td>1</td>\n",
       "      <td>1</td>\n",
       "      <td>1</td>\n",
       "      <td>1</td>\n",
       "      <td>1</td>\n",
       "      <td>0</td>\n",
       "      <td>1</td>\n",
       "      <td>1</td>\n",
       "      <td>1</td>\n",
       "      <td>1</td>\n",
       "    </tr>\n",
       "    <tr>\n",
       "      <th>1</th>\n",
       "      <td>Barrier Post</td>\n",
       "      <td>0</td>\n",
       "      <td>0</td>\n",
       "      <td>0</td>\n",
       "      <td>1</td>\n",
       "      <td>0</td>\n",
       "      <td>0</td>\n",
       "      <td>0</td>\n",
       "      <td>0</td>\n",
       "      <td>0</td>\n",
       "      <td>1</td>\n",
       "      <td>1</td>\n",
       "      <td>1</td>\n",
       "    </tr>\n",
       "    <tr>\n",
       "      <th>2</th>\n",
       "      <td>Barrier Stump</td>\n",
       "      <td>0</td>\n",
       "      <td>0</td>\n",
       "      <td>0</td>\n",
       "      <td>0</td>\n",
       "      <td>0</td>\n",
       "      <td>0</td>\n",
       "      <td>0</td>\n",
       "      <td>0</td>\n",
       "      <td>0</td>\n",
       "      <td>1</td>\n",
       "      <td>1</td>\n",
       "      <td>1</td>\n",
       "    </tr>\n",
       "    <tr>\n",
       "      <th>3</th>\n",
       "      <td>Bench</td>\n",
       "      <td>0</td>\n",
       "      <td>0</td>\n",
       "      <td>0</td>\n",
       "      <td>0</td>\n",
       "      <td>0</td>\n",
       "      <td>0</td>\n",
       "      <td>0</td>\n",
       "      <td>0</td>\n",
       "      <td>0</td>\n",
       "      <td>0</td>\n",
       "      <td>0</td>\n",
       "      <td>0</td>\n",
       "    </tr>\n",
       "    <tr>\n",
       "      <th>4</th>\n",
       "      <td>Bicycle</td>\n",
       "      <td>0</td>\n",
       "      <td>0</td>\n",
       "      <td>0</td>\n",
       "      <td>0</td>\n",
       "      <td>0</td>\n",
       "      <td>0</td>\n",
       "      <td>0</td>\n",
       "      <td>0</td>\n",
       "      <td>0</td>\n",
       "      <td>0</td>\n",
       "      <td>0</td>\n",
       "      <td>0</td>\n",
       "    </tr>\n",
       "    <tr>\n",
       "      <th>...</th>\n",
       "      <td>...</td>\n",
       "      <td>...</td>\n",
       "      <td>...</td>\n",
       "      <td>...</td>\n",
       "      <td>...</td>\n",
       "      <td>...</td>\n",
       "      <td>...</td>\n",
       "      <td>...</td>\n",
       "      <td>...</td>\n",
       "      <td>...</td>\n",
       "      <td>...</td>\n",
       "      <td>...</td>\n",
       "      <td>...</td>\n",
       "    </tr>\n",
       "    <tr>\n",
       "      <th>74</th>\n",
       "      <td>Water Pipes</td>\n",
       "      <td>0</td>\n",
       "      <td>0</td>\n",
       "      <td>0</td>\n",
       "      <td>0</td>\n",
       "      <td>1</td>\n",
       "      <td>0</td>\n",
       "      <td>0</td>\n",
       "      <td>0</td>\n",
       "      <td>1</td>\n",
       "      <td>0</td>\n",
       "      <td>1</td>\n",
       "      <td>1</td>\n",
       "    </tr>\n",
       "    <tr>\n",
       "      <th>75</th>\n",
       "      <td>Wet surface</td>\n",
       "      <td>0</td>\n",
       "      <td>1</td>\n",
       "      <td>1</td>\n",
       "      <td>0</td>\n",
       "      <td>1</td>\n",
       "      <td>1</td>\n",
       "      <td>1</td>\n",
       "      <td>1</td>\n",
       "      <td>1</td>\n",
       "      <td>1</td>\n",
       "      <td>1</td>\n",
       "      <td>1</td>\n",
       "    </tr>\n",
       "    <tr>\n",
       "      <th>76</th>\n",
       "      <td>Wheelchair</td>\n",
       "      <td>0</td>\n",
       "      <td>0</td>\n",
       "      <td>0</td>\n",
       "      <td>1</td>\n",
       "      <td>0</td>\n",
       "      <td>0</td>\n",
       "      <td>1</td>\n",
       "      <td>0</td>\n",
       "      <td>0</td>\n",
       "      <td>1</td>\n",
       "      <td>0</td>\n",
       "      <td>1</td>\n",
       "    </tr>\n",
       "    <tr>\n",
       "      <th>77</th>\n",
       "      <td>White Cane</td>\n",
       "      <td>0</td>\n",
       "      <td>0</td>\n",
       "      <td>0</td>\n",
       "      <td>0</td>\n",
       "      <td>0</td>\n",
       "      <td>1</td>\n",
       "      <td>0</td>\n",
       "      <td>0</td>\n",
       "      <td>1</td>\n",
       "      <td>1</td>\n",
       "      <td>1</td>\n",
       "      <td>0</td>\n",
       "    </tr>\n",
       "    <tr>\n",
       "      <th>78</th>\n",
       "      <td>Yard Waste</td>\n",
       "      <td>0</td>\n",
       "      <td>0</td>\n",
       "      <td>0</td>\n",
       "      <td>1</td>\n",
       "      <td>0</td>\n",
       "      <td>0</td>\n",
       "      <td>0</td>\n",
       "      <td>0</td>\n",
       "      <td>0</td>\n",
       "      <td>0</td>\n",
       "      <td>0</td>\n",
       "      <td>0</td>\n",
       "    </tr>\n",
       "  </tbody>\n",
       "</table>\n",
       "<p>79 rows × 13 columns</p>\n",
       "</div>"
      ],
      "text/plain": [
       "           Object  Frame-0  Frame-1  Frame-2  Frame-3  Frame-4  Frame-5  \\\n",
       "0   Accent Paving        1        1        1        1        1        1   \n",
       "1    Barrier Post        0        0        0        1        0        0   \n",
       "2   Barrier Stump        0        0        0        0        0        0   \n",
       "3           Bench        0        0        0        0        0        0   \n",
       "4         Bicycle        0        0        0        0        0        0   \n",
       "..            ...      ...      ...      ...      ...      ...      ...   \n",
       "74    Water Pipes        0        0        0        0        1        0   \n",
       "75    Wet surface        0        1        1        0        1        1   \n",
       "76     Wheelchair        0        0        0        1        0        0   \n",
       "77     White Cane        0        0        0        0        0        1   \n",
       "78     Yard Waste        0        0        0        1        0        0   \n",
       "\n",
       "    Frame-6  Frame-7  Frame-8  Frame-9  Frame-10  Frame-11  \n",
       "0         1        0        1        1         1         1  \n",
       "1         0        0        0        1         1         1  \n",
       "2         0        0        0        1         1         1  \n",
       "3         0        0        0        0         0         0  \n",
       "4         0        0        0        0         0         0  \n",
       "..      ...      ...      ...      ...       ...       ...  \n",
       "74        0        0        1        0         1         1  \n",
       "75        1        1        1        1         1         1  \n",
       "76        1        0        0        1         0         1  \n",
       "77        0        0        1        1         1         0  \n",
       "78        0        0        0        0         0         0  \n",
       "\n",
       "[79 rows x 13 columns]"
      ]
     },
     "execution_count": 182,
     "metadata": {},
     "output_type": "execute_result"
    }
   ],
   "source": [
    "import plotly.graph_objects as go\n",
    "\n",
    "csv_file = \"/Users/imrankabir/Desktop/research/vqa_accessibility/Dashboard-For-VQA/Dashboard Data/GPV-1/video-3-segment-2.csv\"\n",
    "\n",
    "df = pd.read_csv(csv_file)\n",
    "\n",
    "df = gpv_df\n",
    "\n",
    "fig = go.Figure()\n",
    "\n",
    "colorscale = [\n",
    "    [0, color_disagreement],\n",
    "    [1, color_agreement]\n",
    "]\n",
    "\n",
    "fig.update_layout(\n",
    "    template=\"simple_white\",\n",
    "    xaxis=dict(title_text=\"Frames\", tickmode='linear'),\n",
    "    yaxis=dict(title_text=\"Objects\",  tickmode='linear'),\n",
    "    width=1800,\n",
    "    height=450,\n",
    "    margin=dict(l=0, r=0, t=40, b=10),\n",
    "    title=dict(\n",
    "        text=\"\",\n",
    "        font=dict(size=32, color=\"black\"),\n",
    "        x=0.5,\n",
    "        y=0.995\n",
    "\n",
    "    )\n",
    ")\n",
    "\n",
    "fig.add_trace(\n",
    "    go.Heatmap(\n",
    "        z=df,\n",
    "        x=[i for i, x in enumerate(list(df.columns))],\n",
    "        y=[x.capitalize() for i, x in enumerate(list(df.index))],\n",
    "        colorscale=colorscale,\n",
    "        zmin=-1,\n",
    "        zmax=1,\n",
    "        showscale=False\n",
    "    )\n",
    ")\n",
    "\n",
    "fig.update_layout(\n",
    "    font_family=\"Courier New, monospace\",\n",
    "    font_color=\"black\",\n",
    "    title_font_family=\"Courier New, monospace\",\n",
    "    title_font_color=\"black\",\n",
    "    legend_title_font_color=\"black\",\n",
    "    font=dict(size=26),\n",
    ")\n",
    "\n",
    "fig.update_xaxes(ticklabelposition='outside')\n",
    "\n",
    "fig.update_xaxes(\n",
    "    tickson=\"boundaries\",\n",
    "    ticklen=5,\n",
    "    tickangle=0\n",
    ")\n",
    "fig.update_layout(\n",
    "     xaxis=dict(showgrid=True),\n",
    "     yaxis=dict(showgrid=True)\n",
    ")\n",
    "\n",
    "fig.update_layout(xaxis=dict(domain=[0, 1]))\n",
    "# fig.update_traces(showscale=False)\n",
    "\n",
    "# fig.update_layout(legend = dict(orientation = \"h\",\n",
    "#                                 x=0,\n",
    "#                                 y=0.5,\n",
    "#                                 title_font_family=\"Sitka Small\",\n",
    "#                                 bgcolor=\"LightBlue\",\n",
    "#                                 bordercolor=\"Black\",\n",
    "#                                 borderwidth=2))\n",
    "\n",
    "# fig.update_traces(width=0.4)\n",
    "\n",
    "# fig.update_traces(colorbar_orientation='h',\n",
    "#                   colorbar_tickmode='array',\n",
    "#                   colorbar_ticktext=[\"can't predict\", '0', '1'],\n",
    "#                   colorbar_tickvals=[-1, 0, 1],\n",
    "#                   colorbar_tickangle=0,\n",
    "#                   selector=dict(type='heatmap')\n",
    "#                  )\n",
    "\n",
    "# filename = f'{datetime.now().strftime(\"%Y_%m_%d-%I_%M_%S_%p\")}.pdf'\n",
    "filename = 'sub_mod_gpv.pdf'\n",
    "\n",
    "fig.write_image(\n",
    "    os.path.join(out_plot_path, filename),\n",
    "    format='pdf'\n",
    ")\n",
    "\n",
    "fig"
   ]
  },
  {
   "cell_type": "code",
   "execution_count": 304,
   "metadata": {},
   "outputs": [
    {
     "name": "stdout",
     "output_type": "stream",
     "text": [
      "['00000000', '00000001', '00000010', '00000011', '00000100', '00000101', '00000110', '00000111', '00001000', '00001001', '00001010', '00001011', '00001100', '00001101', '00001110', '00001111', '00010000', '00010001', '00010010', '00010011', '00010100', '00010101', '00010110', '00010111', '00011000', '00011001', '00011010', '00011011', '00011100', '00011101', '00011110', '00011111', '00100000', '00100001', '00100010', '00100011', '00100100', '00100101', '00100110', '00100111', '00101000', '00101001', '00101010', '00101011', '00101100', '00101101', '00101110', '00101111', '00110000', '00110001', '00110010', '00110011', '00110100', '00110101', '00110110', '00110111', '00111000', '00111001', '00111010', '00111011', '00111100', '00111101', '00111110', '00111111', '01000000', '01000001', '01000010', '01000011', '01000100', '01000101', '01000110', '01000111', '01001000', '01001001', '01001010', '01001011', '01001100', '01001101', '01001110', '01001111', '01010000', '01010001', '01010010', '01010011', '01010100', '01010101', '01010110', '01010111', '01011000', '01011001', '01011010', '01011011', '01011100', '01011101', '01011110', '01011111', '01100000', '01100001', '01100010', '01100011', '01100100', '01100101', '01100110', '01100111', '01101000', '01101001', '01101010', '01101011', '01101100', '01101101', '01101110', '01101111', '01110000', '01110001', '01110010', '01110011', '01110100', '01110101', '01110110', '01110111', '01111000', '01111001', '01111010', '01111011', '01111100', '01111101', '01111110', '01111111', '010000000', '010000001', '010000010', '010000011', '010000100', '010000101', '010000110', '010000111', '010001000', '010001001', '010001010', '010001011', '010001100', '010001101', '010001110', '010001111', '010010000', '010010001', '010010010', '010010011', '010010100', '010010101', '010010110', '010010111', '010011000', '010011001', '010011010', '010011011', '010011100', '010011101', '010011110', '010011111', '010100000', '010100001', '010100010', '010100011', '010100100', '010100101', '010100110', '010100111', '010101000', '010101001', '010101010', '010101011', '010101100', '010101101', '010101110', '010101111', '010110000', '010110001', '010110010', '010110011', '010110100', '010110101', '010110110', '010110111', '010111000', '010111001', '010111010', '010111011', '010111100', '010111101', '010111110', '010111111', '011000000', '011000001', '011000010', '011000011', '011000100', '011000101', '011000110', '011000111', '011001000', '011001001', '011001010', '011001011', '011001100', '011001101', '011001110', '011001111', '011010000', '011010001', '011010010', '011010011', '011010100', '011010101', '011010110', '011010111', '011011000', '011011001', '011011010', '011011011', '011011100', '011011101', '011011110', '011011111', '011100000', '011100001', '011100010', '011100011', '011100100', '011100101', '011100110', '011100111', '011101000', '011101001', '011101010', '011101011', '011101100', '011101101', '011101110', '011101111', '011110000', '011110001', '011110010', '011110011', '011110100', '011110101', '011110110', '011110111', '011111000', '011111001', '011111010', '011111011', '011111100', '011111101', '011111110', '011111111']\n"
     ]
    }
   ],
   "source": [
    "unq_st_str = []\n",
    "for x in range(2**8):\n",
    "    str_bit = str(bin(x)).replace('b', '').zfill(8)\n",
    "    unq_st_str.append(str_bit)\n",
    "\n",
    "print(unq_st_str)"
   ]
  },
  {
   "cell_type": "code",
   "execution_count": 124,
   "metadata": {},
   "outputs": [
    {
     "data": {
      "application/vnd.plotly.v1+json": {
       "config": {
        "plotlyServerURL": "https://plot.ly"
       },
       "data": [
        {
         "type": "heatmap",
         "x": [
          "Col1",
          "Col2",
          "Col3",
          "Col4"
         ],
         "y": [
          "Row1",
          "Row2",
          "Row3",
          "Row4"
         ],
         "z": [
          [
           "A",
           "B",
           "C",
           "D"
          ],
          [
           "E",
           "F",
           "G",
           "H"
          ],
          [
           "I",
           "J",
           "K",
           "L"
          ],
          [
           "M",
           "N",
           "O",
           "P"
          ]
         ]
        }
       ],
       "layout": {
        "autosize": true,
        "template": {
         "data": {
          "bar": [
           {
            "error_x": {
             "color": "#2a3f5f"
            },
            "error_y": {
             "color": "#2a3f5f"
            },
            "marker": {
             "line": {
              "color": "#E5ECF6",
              "width": 0.5
             },
             "pattern": {
              "fillmode": "overlay",
              "size": 10,
              "solidity": 0.2
             }
            },
            "type": "bar"
           }
          ],
          "barpolar": [
           {
            "marker": {
             "line": {
              "color": "#E5ECF6",
              "width": 0.5
             },
             "pattern": {
              "fillmode": "overlay",
              "size": 10,
              "solidity": 0.2
             }
            },
            "type": "barpolar"
           }
          ],
          "carpet": [
           {
            "aaxis": {
             "endlinecolor": "#2a3f5f",
             "gridcolor": "white",
             "linecolor": "white",
             "minorgridcolor": "white",
             "startlinecolor": "#2a3f5f"
            },
            "baxis": {
             "endlinecolor": "#2a3f5f",
             "gridcolor": "white",
             "linecolor": "white",
             "minorgridcolor": "white",
             "startlinecolor": "#2a3f5f"
            },
            "type": "carpet"
           }
          ],
          "choropleth": [
           {
            "colorbar": {
             "outlinewidth": 0,
             "ticks": ""
            },
            "type": "choropleth"
           }
          ],
          "contour": [
           {
            "colorbar": {
             "outlinewidth": 0,
             "ticks": ""
            },
            "colorscale": [
             [
              0,
              "#0d0887"
             ],
             [
              0.1111111111111111,
              "#46039f"
             ],
             [
              0.2222222222222222,
              "#7201a8"
             ],
             [
              0.3333333333333333,
              "#9c179e"
             ],
             [
              0.4444444444444444,
              "#bd3786"
             ],
             [
              0.5555555555555556,
              "#d8576b"
             ],
             [
              0.6666666666666666,
              "#ed7953"
             ],
             [
              0.7777777777777778,
              "#fb9f3a"
             ],
             [
              0.8888888888888888,
              "#fdca26"
             ],
             [
              1,
              "#f0f921"
             ]
            ],
            "type": "contour"
           }
          ],
          "contourcarpet": [
           {
            "colorbar": {
             "outlinewidth": 0,
             "ticks": ""
            },
            "type": "contourcarpet"
           }
          ],
          "heatmap": [
           {
            "colorbar": {
             "outlinewidth": 0,
             "ticks": ""
            },
            "colorscale": [
             [
              0,
              "#0d0887"
             ],
             [
              0.1111111111111111,
              "#46039f"
             ],
             [
              0.2222222222222222,
              "#7201a8"
             ],
             [
              0.3333333333333333,
              "#9c179e"
             ],
             [
              0.4444444444444444,
              "#bd3786"
             ],
             [
              0.5555555555555556,
              "#d8576b"
             ],
             [
              0.6666666666666666,
              "#ed7953"
             ],
             [
              0.7777777777777778,
              "#fb9f3a"
             ],
             [
              0.8888888888888888,
              "#fdca26"
             ],
             [
              1,
              "#f0f921"
             ]
            ],
            "type": "heatmap"
           }
          ],
          "heatmapgl": [
           {
            "colorbar": {
             "outlinewidth": 0,
             "ticks": ""
            },
            "colorscale": [
             [
              0,
              "#0d0887"
             ],
             [
              0.1111111111111111,
              "#46039f"
             ],
             [
              0.2222222222222222,
              "#7201a8"
             ],
             [
              0.3333333333333333,
              "#9c179e"
             ],
             [
              0.4444444444444444,
              "#bd3786"
             ],
             [
              0.5555555555555556,
              "#d8576b"
             ],
             [
              0.6666666666666666,
              "#ed7953"
             ],
             [
              0.7777777777777778,
              "#fb9f3a"
             ],
             [
              0.8888888888888888,
              "#fdca26"
             ],
             [
              1,
              "#f0f921"
             ]
            ],
            "type": "heatmapgl"
           }
          ],
          "histogram": [
           {
            "marker": {
             "pattern": {
              "fillmode": "overlay",
              "size": 10,
              "solidity": 0.2
             }
            },
            "type": "histogram"
           }
          ],
          "histogram2d": [
           {
            "colorbar": {
             "outlinewidth": 0,
             "ticks": ""
            },
            "colorscale": [
             [
              0,
              "#0d0887"
             ],
             [
              0.1111111111111111,
              "#46039f"
             ],
             [
              0.2222222222222222,
              "#7201a8"
             ],
             [
              0.3333333333333333,
              "#9c179e"
             ],
             [
              0.4444444444444444,
              "#bd3786"
             ],
             [
              0.5555555555555556,
              "#d8576b"
             ],
             [
              0.6666666666666666,
              "#ed7953"
             ],
             [
              0.7777777777777778,
              "#fb9f3a"
             ],
             [
              0.8888888888888888,
              "#fdca26"
             ],
             [
              1,
              "#f0f921"
             ]
            ],
            "type": "histogram2d"
           }
          ],
          "histogram2dcontour": [
           {
            "colorbar": {
             "outlinewidth": 0,
             "ticks": ""
            },
            "colorscale": [
             [
              0,
              "#0d0887"
             ],
             [
              0.1111111111111111,
              "#46039f"
             ],
             [
              0.2222222222222222,
              "#7201a8"
             ],
             [
              0.3333333333333333,
              "#9c179e"
             ],
             [
              0.4444444444444444,
              "#bd3786"
             ],
             [
              0.5555555555555556,
              "#d8576b"
             ],
             [
              0.6666666666666666,
              "#ed7953"
             ],
             [
              0.7777777777777778,
              "#fb9f3a"
             ],
             [
              0.8888888888888888,
              "#fdca26"
             ],
             [
              1,
              "#f0f921"
             ]
            ],
            "type": "histogram2dcontour"
           }
          ],
          "mesh3d": [
           {
            "colorbar": {
             "outlinewidth": 0,
             "ticks": ""
            },
            "type": "mesh3d"
           }
          ],
          "parcoords": [
           {
            "line": {
             "colorbar": {
              "outlinewidth": 0,
              "ticks": ""
             }
            },
            "type": "parcoords"
           }
          ],
          "pie": [
           {
            "automargin": true,
            "type": "pie"
           }
          ],
          "scatter": [
           {
            "fillpattern": {
             "fillmode": "overlay",
             "size": 10,
             "solidity": 0.2
            },
            "type": "scatter"
           }
          ],
          "scatter3d": [
           {
            "line": {
             "colorbar": {
              "outlinewidth": 0,
              "ticks": ""
             }
            },
            "marker": {
             "colorbar": {
              "outlinewidth": 0,
              "ticks": ""
             }
            },
            "type": "scatter3d"
           }
          ],
          "scattercarpet": [
           {
            "marker": {
             "colorbar": {
              "outlinewidth": 0,
              "ticks": ""
             }
            },
            "type": "scattercarpet"
           }
          ],
          "scattergeo": [
           {
            "marker": {
             "colorbar": {
              "outlinewidth": 0,
              "ticks": ""
             }
            },
            "type": "scattergeo"
           }
          ],
          "scattergl": [
           {
            "marker": {
             "colorbar": {
              "outlinewidth": 0,
              "ticks": ""
             }
            },
            "type": "scattergl"
           }
          ],
          "scattermapbox": [
           {
            "marker": {
             "colorbar": {
              "outlinewidth": 0,
              "ticks": ""
             }
            },
            "type": "scattermapbox"
           }
          ],
          "scatterpolar": [
           {
            "marker": {
             "colorbar": {
              "outlinewidth": 0,
              "ticks": ""
             }
            },
            "type": "scatterpolar"
           }
          ],
          "scatterpolargl": [
           {
            "marker": {
             "colorbar": {
              "outlinewidth": 0,
              "ticks": ""
             }
            },
            "type": "scatterpolargl"
           }
          ],
          "scatterternary": [
           {
            "marker": {
             "colorbar": {
              "outlinewidth": 0,
              "ticks": ""
             }
            },
            "type": "scatterternary"
           }
          ],
          "surface": [
           {
            "colorbar": {
             "outlinewidth": 0,
             "ticks": ""
            },
            "colorscale": [
             [
              0,
              "#0d0887"
             ],
             [
              0.1111111111111111,
              "#46039f"
             ],
             [
              0.2222222222222222,
              "#7201a8"
             ],
             [
              0.3333333333333333,
              "#9c179e"
             ],
             [
              0.4444444444444444,
              "#bd3786"
             ],
             [
              0.5555555555555556,
              "#d8576b"
             ],
             [
              0.6666666666666666,
              "#ed7953"
             ],
             [
              0.7777777777777778,
              "#fb9f3a"
             ],
             [
              0.8888888888888888,
              "#fdca26"
             ],
             [
              1,
              "#f0f921"
             ]
            ],
            "type": "surface"
           }
          ],
          "table": [
           {
            "cells": {
             "fill": {
              "color": "#EBF0F8"
             },
             "line": {
              "color": "white"
             }
            },
            "header": {
             "fill": {
              "color": "#C8D4E3"
             },
             "line": {
              "color": "white"
             }
            },
            "type": "table"
           }
          ]
         },
         "layout": {
          "annotationdefaults": {
           "arrowcolor": "#2a3f5f",
           "arrowhead": 0,
           "arrowwidth": 1
          },
          "autotypenumbers": "strict",
          "coloraxis": {
           "colorbar": {
            "outlinewidth": 0,
            "ticks": ""
           }
          },
          "colorscale": {
           "diverging": [
            [
             0,
             "#8e0152"
            ],
            [
             0.1,
             "#c51b7d"
            ],
            [
             0.2,
             "#de77ae"
            ],
            [
             0.3,
             "#f1b6da"
            ],
            [
             0.4,
             "#fde0ef"
            ],
            [
             0.5,
             "#f7f7f7"
            ],
            [
             0.6,
             "#e6f5d0"
            ],
            [
             0.7,
             "#b8e186"
            ],
            [
             0.8,
             "#7fbc41"
            ],
            [
             0.9,
             "#4d9221"
            ],
            [
             1,
             "#276419"
            ]
           ],
           "sequential": [
            [
             0,
             "#0d0887"
            ],
            [
             0.1111111111111111,
             "#46039f"
            ],
            [
             0.2222222222222222,
             "#7201a8"
            ],
            [
             0.3333333333333333,
             "#9c179e"
            ],
            [
             0.4444444444444444,
             "#bd3786"
            ],
            [
             0.5555555555555556,
             "#d8576b"
            ],
            [
             0.6666666666666666,
             "#ed7953"
            ],
            [
             0.7777777777777778,
             "#fb9f3a"
            ],
            [
             0.8888888888888888,
             "#fdca26"
            ],
            [
             1,
             "#f0f921"
            ]
           ],
           "sequentialminus": [
            [
             0,
             "#0d0887"
            ],
            [
             0.1111111111111111,
             "#46039f"
            ],
            [
             0.2222222222222222,
             "#7201a8"
            ],
            [
             0.3333333333333333,
             "#9c179e"
            ],
            [
             0.4444444444444444,
             "#bd3786"
            ],
            [
             0.5555555555555556,
             "#d8576b"
            ],
            [
             0.6666666666666666,
             "#ed7953"
            ],
            [
             0.7777777777777778,
             "#fb9f3a"
            ],
            [
             0.8888888888888888,
             "#fdca26"
            ],
            [
             1,
             "#f0f921"
            ]
           ]
          },
          "colorway": [
           "#636efa",
           "#EF553B",
           "#00cc96",
           "#ab63fa",
           "#FFA15A",
           "#19d3f3",
           "#FF6692",
           "#B6E880",
           "#FF97FF",
           "#FECB52"
          ],
          "font": {
           "color": "#2a3f5f"
          },
          "geo": {
           "bgcolor": "white",
           "lakecolor": "white",
           "landcolor": "#E5ECF6",
           "showlakes": true,
           "showland": true,
           "subunitcolor": "white"
          },
          "hoverlabel": {
           "align": "left"
          },
          "hovermode": "closest",
          "mapbox": {
           "style": "light"
          },
          "paper_bgcolor": "white",
          "plot_bgcolor": "#E5ECF6",
          "polar": {
           "angularaxis": {
            "gridcolor": "white",
            "linecolor": "white",
            "ticks": ""
           },
           "bgcolor": "#E5ECF6",
           "radialaxis": {
            "gridcolor": "white",
            "linecolor": "white",
            "ticks": ""
           }
          },
          "scene": {
           "xaxis": {
            "backgroundcolor": "#E5ECF6",
            "gridcolor": "white",
            "gridwidth": 2,
            "linecolor": "white",
            "showbackground": true,
            "ticks": "",
            "zerolinecolor": "white"
           },
           "yaxis": {
            "backgroundcolor": "#E5ECF6",
            "gridcolor": "white",
            "gridwidth": 2,
            "linecolor": "white",
            "showbackground": true,
            "ticks": "",
            "zerolinecolor": "white"
           },
           "zaxis": {
            "backgroundcolor": "#E5ECF6",
            "gridcolor": "white",
            "gridwidth": 2,
            "linecolor": "white",
            "showbackground": true,
            "ticks": "",
            "zerolinecolor": "white"
           }
          },
          "shapedefaults": {
           "line": {
            "color": "#2a3f5f"
           }
          },
          "ternary": {
           "aaxis": {
            "gridcolor": "white",
            "linecolor": "white",
            "ticks": ""
           },
           "baxis": {
            "gridcolor": "white",
            "linecolor": "white",
            "ticks": ""
           },
           "bgcolor": "#E5ECF6",
           "caxis": {
            "gridcolor": "white",
            "linecolor": "white",
            "ticks": ""
           }
          },
          "title": {
           "x": 0.05
          },
          "xaxis": {
           "automargin": true,
           "gridcolor": "white",
           "linecolor": "white",
           "ticks": "",
           "title": {
            "standoff": 15
           },
           "zerolinecolor": "white",
           "zerolinewidth": 2
          },
          "yaxis": {
           "automargin": true,
           "gridcolor": "white",
           "linecolor": "white",
           "ticks": "",
           "title": {
            "standoff": 15
           },
           "zerolinecolor": "white",
           "zerolinewidth": 2
          }
         }
        },
        "title": {
         "text": "Discrete String Heatmap"
        },
        "xaxis": {
         "autorange": false,
         "range": [
          1.9006342494714588,
          3.091966173361522
         ],
         "title": {
          "text": "X Axis Label"
         },
         "type": "category"
        },
        "yaxis": {
         "autorange": false,
         "range": [
          -0.8999998304578993,
          1.5166668362087674
         ],
         "title": {
          "text": "Y Axis Label"
         },
         "type": "category"
        }
       }
      },
      "image/png": "[encoded data removed]",
      "text/html": [
       "<div>                            <div id=\"a6e8ad02-bc97-4815-966f-0442f09da1a9\" class=\"plotly-graph-div\" style=\"height:525px; width:100%;\"></div>            <script type=\"text/javascript\">                require([\"plotly\"], function(Plotly) {                    window.PLOTLYENV=window.PLOTLYENV || {};                                    if (document.getElementById(\"a6e8ad02-bc97-4815-966f-0442f09da1a9\")) {                    Plotly.newPlot(                        \"a6e8ad02-bc97-4815-966f-0442f09da1a9\",                        [{\"x\":[\"Col1\",\"Col2\",\"Col3\",\"Col4\"],\"y\":[\"Row1\",\"Row2\",\"Row3\",\"Row4\"],\"z\":[[\"A\",\"B\",\"C\",\"D\"],[\"E\",\"F\",\"G\",\"H\"],[\"I\",\"J\",\"K\",\"L\"],[\"M\",\"N\",\"O\",\"P\"]],\"type\":\"heatmap\"}],                        {\"title\":{\"text\":\"Discrete String Heatmap\"},\"xaxis\":{\"title\":{\"text\":\"X Axis Label\"}},\"yaxis\":{\"title\":{\"text\":\"Y Axis Label\"}},\"template\":{\"data\":{\"histogram2dcontour\":[{\"type\":\"histogram2dcontour\",\"colorbar\":{\"outlinewidth\":0,\"ticks\":\"\"},\"colorscale\":[[0.0,\"#0d0887\"],[0.1111111111111111,\"#46039f\"],[0.2222222222222222,\"#7201a8\"],[0.3333333333333333,\"#9c179e\"],[0.4444444444444444,\"#bd3786\"],[0.5555555555555556,\"#d8576b\"],[0.6666666666666666,\"#ed7953\"],[0.7777777777777778,\"#fb9f3a\"],[0.8888888888888888,\"#fdca26\"],[1.0,\"#f0f921\"]]}],\"choropleth\":[{\"type\":\"choropleth\",\"colorbar\":{\"outlinewidth\":0,\"ticks\":\"\"}}],\"histogram2d\":[{\"type\":\"histogram2d\",\"colorbar\":{\"outlinewidth\":0,\"ticks\":\"\"},\"colorscale\":[[0.0,\"#0d0887\"],[0.1111111111111111,\"#46039f\"],[0.2222222222222222,\"#7201a8\"],[0.3333333333333333,\"#9c179e\"],[0.4444444444444444,\"#bd3786\"],[0.5555555555555556,\"#d8576b\"],[0.6666666666666666,\"#ed7953\"],[0.7777777777777778,\"#fb9f3a\"],[0.8888888888888888,\"#fdca26\"],[1.0,\"#f0f921\"]]}],\"heatmap\":[{\"type\":\"heatmap\",\"colorbar\":{\"outlinewidth\":0,\"ticks\":\"\"},\"colorscale\":[[0.0,\"#0d0887\"],[0.1111111111111111,\"#46039f\"],[0.2222222222222222,\"#7201a8\"],[0.3333333333333333,\"#9c179e\"],[0.4444444444444444,\"#bd3786\"],[0.5555555555555556,\"#d8576b\"],[0.6666666666666666,\"#ed7953\"],[0.7777777777777778,\"#fb9f3a\"],[0.8888888888888888,\"#fdca26\"],[1.0,\"#f0f921\"]]}],\"heatmapgl\":[{\"type\":\"heatmapgl\",\"colorbar\":{\"outlinewidth\":0,\"ticks\":\"\"},\"colorscale\":[[0.0,\"#0d0887\"],[0.1111111111111111,\"#46039f\"],[0.2222222222222222,\"#7201a8\"],[0.3333333333333333,\"#9c179e\"],[0.4444444444444444,\"#bd3786\"],[0.5555555555555556,\"#d8576b\"],[0.6666666666666666,\"#ed7953\"],[0.7777777777777778,\"#fb9f3a\"],[0.8888888888888888,\"#fdca26\"],[1.0,\"#f0f921\"]]}],\"contourcarpet\":[{\"type\":\"contourcarpet\",\"colorbar\":{\"outlinewidth\":0,\"ticks\":\"\"}}],\"contour\":[{\"type\":\"contour\",\"colorbar\":{\"outlinewidth\":0,\"ticks\":\"\"},\"colorscale\":[[0.0,\"#0d0887\"],[0.1111111111111111,\"#46039f\"],[0.2222222222222222,\"#7201a8\"],[0.3333333333333333,\"#9c179e\"],[0.4444444444444444,\"#bd3786\"],[0.5555555555555556,\"#d8576b\"],[0.6666666666666666,\"#ed7953\"],[0.7777777777777778,\"#fb9f3a\"],[0.8888888888888888,\"#fdca26\"],[1.0,\"#f0f921\"]]}],\"surface\":[{\"type\":\"surface\",\"colorbar\":{\"outlinewidth\":0,\"ticks\":\"\"},\"colorscale\":[[0.0,\"#0d0887\"],[0.1111111111111111,\"#46039f\"],[0.2222222222222222,\"#7201a8\"],[0.3333333333333333,\"#9c179e\"],[0.4444444444444444,\"#bd3786\"],[0.5555555555555556,\"#d8576b\"],[0.6666666666666666,\"#ed7953\"],[0.7777777777777778,\"#fb9f3a\"],[0.8888888888888888,\"#fdca26\"],[1.0,\"#f0f921\"]]}],\"mesh3d\":[{\"type\":\"mesh3d\",\"colorbar\":{\"outlinewidth\":0,\"ticks\":\"\"}}],\"scatter\":[{\"fillpattern\":{\"fillmode\":\"overlay\",\"size\":10,\"solidity\":0.2},\"type\":\"scatter\"}],\"parcoords\":[{\"type\":\"parcoords\",\"line\":{\"colorbar\":{\"outlinewidth\":0,\"ticks\":\"\"}}}],\"scatterpolargl\":[{\"type\":\"scatterpolargl\",\"marker\":{\"colorbar\":{\"outlinewidth\":0,\"ticks\":\"\"}}}],\"bar\":[{\"error_x\":{\"color\":\"#2a3f5f\"},\"error_y\":{\"color\":\"#2a3f5f\"},\"marker\":{\"line\":{\"color\":\"#E5ECF6\",\"width\":0.5},\"pattern\":{\"fillmode\":\"overlay\",\"size\":10,\"solidity\":0.2}},\"type\":\"bar\"}],\"scattergeo\":[{\"type\":\"scattergeo\",\"marker\":{\"colorbar\":{\"outlinewidth\":0,\"ticks\":\"\"}}}],\"scatterpolar\":[{\"type\":\"scatterpolar\",\"marker\":{\"colorbar\":{\"outlinewidth\":0,\"ticks\":\"\"}}}],\"histogram\":[{\"marker\":{\"pattern\":{\"fillmode\":\"overlay\",\"size\":10,\"solidity\":0.2}},\"type\":\"histogram\"}],\"scattergl\":[{\"type\":\"scattergl\",\"marker\":{\"colorbar\":{\"outlinewidth\":0,\"ticks\":\"\"}}}],\"scatter3d\":[{\"type\":\"scatter3d\",\"line\":{\"colorbar\":{\"outlinewidth\":0,\"ticks\":\"\"}},\"marker\":{\"colorbar\":{\"outlinewidth\":0,\"ticks\":\"\"}}}],\"scattermapbox\":[{\"type\":\"scattermapbox\",\"marker\":{\"colorbar\":{\"outlinewidth\":0,\"ticks\":\"\"}}}],\"scatterternary\":[{\"type\":\"scatterternary\",\"marker\":{\"colorbar\":{\"outlinewidth\":0,\"ticks\":\"\"}}}],\"scattercarpet\":[{\"type\":\"scattercarpet\",\"marker\":{\"colorbar\":{\"outlinewidth\":0,\"ticks\":\"\"}}}],\"carpet\":[{\"aaxis\":{\"endlinecolor\":\"#2a3f5f\",\"gridcolor\":\"white\",\"linecolor\":\"white\",\"minorgridcolor\":\"white\",\"startlinecolor\":\"#2a3f5f\"},\"baxis\":{\"endlinecolor\":\"#2a3f5f\",\"gridcolor\":\"white\",\"linecolor\":\"white\",\"minorgridcolor\":\"white\",\"startlinecolor\":\"#2a3f5f\"},\"type\":\"carpet\"}],\"table\":[{\"cells\":{\"fill\":{\"color\":\"#EBF0F8\"},\"line\":{\"color\":\"white\"}},\"header\":{\"fill\":{\"color\":\"#C8D4E3\"},\"line\":{\"color\":\"white\"}},\"type\":\"table\"}],\"barpolar\":[{\"marker\":{\"line\":{\"color\":\"#E5ECF6\",\"width\":0.5},\"pattern\":{\"fillmode\":\"overlay\",\"size\":10,\"solidity\":0.2}},\"type\":\"barpolar\"}],\"pie\":[{\"automargin\":true,\"type\":\"pie\"}]},\"layout\":{\"autotypenumbers\":\"strict\",\"colorway\":[\"#636efa\",\"#EF553B\",\"#00cc96\",\"#ab63fa\",\"#FFA15A\",\"#19d3f3\",\"#FF6692\",\"#B6E880\",\"#FF97FF\",\"#FECB52\"],\"font\":{\"color\":\"#2a3f5f\"},\"hovermode\":\"closest\",\"hoverlabel\":{\"align\":\"left\"},\"paper_bgcolor\":\"white\",\"plot_bgcolor\":\"#E5ECF6\",\"polar\":{\"bgcolor\":\"#E5ECF6\",\"angularaxis\":{\"gridcolor\":\"white\",\"linecolor\":\"white\",\"ticks\":\"\"},\"radialaxis\":{\"gridcolor\":\"white\",\"linecolor\":\"white\",\"ticks\":\"\"}},\"ternary\":{\"bgcolor\":\"#E5ECF6\",\"aaxis\":{\"gridcolor\":\"white\",\"linecolor\":\"white\",\"ticks\":\"\"},\"baxis\":{\"gridcolor\":\"white\",\"linecolor\":\"white\",\"ticks\":\"\"},\"caxis\":{\"gridcolor\":\"white\",\"linecolor\":\"white\",\"ticks\":\"\"}},\"coloraxis\":{\"colorbar\":{\"outlinewidth\":0,\"ticks\":\"\"}},\"colorscale\":{\"sequential\":[[0.0,\"#0d0887\"],[0.1111111111111111,\"#46039f\"],[0.2222222222222222,\"#7201a8\"],[0.3333333333333333,\"#9c179e\"],[0.4444444444444444,\"#bd3786\"],[0.5555555555555556,\"#d8576b\"],[0.6666666666666666,\"#ed7953\"],[0.7777777777777778,\"#fb9f3a\"],[0.8888888888888888,\"#fdca26\"],[1.0,\"#f0f921\"]],\"sequentialminus\":[[0.0,\"#0d0887\"],[0.1111111111111111,\"#46039f\"],[0.2222222222222222,\"#7201a8\"],[0.3333333333333333,\"#9c179e\"],[0.4444444444444444,\"#bd3786\"],[0.5555555555555556,\"#d8576b\"],[0.6666666666666666,\"#ed7953\"],[0.7777777777777778,\"#fb9f3a\"],[0.8888888888888888,\"#fdca26\"],[1.0,\"#f0f921\"]],\"diverging\":[[0,\"#8e0152\"],[0.1,\"#c51b7d\"],[0.2,\"#de77ae\"],[0.3,\"#f1b6da\"],[0.4,\"#fde0ef\"],[0.5,\"#f7f7f7\"],[0.6,\"#e6f5d0\"],[0.7,\"#b8e186\"],[0.8,\"#7fbc41\"],[0.9,\"#4d9221\"],[1,\"#276419\"]]},\"xaxis\":{\"gridcolor\":\"white\",\"linecolor\":\"white\",\"ticks\":\"\",\"title\":{\"standoff\":15},\"zerolinecolor\":\"white\",\"automargin\":true,\"zerolinewidth\":2},\"yaxis\":{\"gridcolor\":\"white\",\"linecolor\":\"white\",\"ticks\":\"\",\"title\":{\"standoff\":15},\"zerolinecolor\":\"white\",\"automargin\":true,\"zerolinewidth\":2},\"scene\":{\"xaxis\":{\"backgroundcolor\":\"#E5ECF6\",\"gridcolor\":\"white\",\"linecolor\":\"white\",\"showbackground\":true,\"ticks\":\"\",\"zerolinecolor\":\"white\",\"gridwidth\":2},\"yaxis\":{\"backgroundcolor\":\"#E5ECF6\",\"gridcolor\":\"white\",\"linecolor\":\"white\",\"showbackground\":true,\"ticks\":\"\",\"zerolinecolor\":\"white\",\"gridwidth\":2},\"zaxis\":{\"backgroundcolor\":\"#E5ECF6\",\"gridcolor\":\"white\",\"linecolor\":\"white\",\"showbackground\":true,\"ticks\":\"\",\"zerolinecolor\":\"white\",\"gridwidth\":2}},\"shapedefaults\":{\"line\":{\"color\":\"#2a3f5f\"}},\"annotationdefaults\":{\"arrowcolor\":\"#2a3f5f\",\"arrowhead\":0,\"arrowwidth\":1},\"geo\":{\"bgcolor\":\"white\",\"landcolor\":\"#E5ECF6\",\"subunitcolor\":\"white\",\"showland\":true,\"showlakes\":true,\"lakecolor\":\"white\"},\"title\":{\"x\":0.05},\"mapbox\":{\"style\":\"light\"}}}},                        {\"responsive\": true}                    ).then(function(){\n",
       "                            \n",
       "var gd = document.getElementById('a6e8ad02-bc97-4815-966f-0442f09da1a9');\n",
       "var x = new MutationObserver(function (mutations, observer) {{\n",
       "        var display = window.getComputedStyle(gd).display;\n",
       "        if (!display || display === 'none') {{\n",
       "            console.log([gd, 'removed!']);\n",
       "            Plotly.purge(gd);\n",
       "            observer.disconnect();\n",
       "        }}\n",
       "}});\n",
       "\n",
       "// Listen for the removal of the full notebook cells\n",
       "var notebookContainer = gd.closest('#notebook-container');\n",
       "if (notebookContainer) {{\n",
       "    x.observe(notebookContainer, {childList: true});\n",
       "}}\n",
       "\n",
       "// Listen for the clearing of the current output cell\n",
       "var outputEl = gd.closest('.output');\n",
       "if (outputEl) {{\n",
       "    x.observe(outputEl, {childList: true});\n",
       "}}\n",
       "\n",
       "                        })                };                });            </script>        </div>"
      ]
     },
     "metadata": {},
     "output_type": "display_data"
    }
   ],
   "source": [
    "import plotly.graph_objs as go\n",
    "\n",
    "# Prepare your data\n",
    "data = [\n",
    "    ['A', 'B', 'C', 'D'],\n",
    "    ['E', 'F', 'G', 'H'],\n",
    "    ['I', 'J', 'K', 'L'],\n",
    "    ['M', 'N', 'O', 'P']\n",
    "]\n",
    "\n",
    "# Create the go.Heatmap trace\n",
    "heatmap_trace = go.Heatmap(z=data, x=['Col1', 'Col2', 'Col3', 'Col4'], y=['Row1', 'Row2', 'Row3', 'Row4'])\n",
    "\n",
    "# Create a layout for the heatmap\n",
    "layout = go.Layout(\n",
    "    title='Discrete String Heatmap',\n",
    "    xaxis=dict(title='X Axis Label'),\n",
    "    yaxis=dict(title='Y Axis Label')\n",
    ")\n",
    "\n",
    "# Create a Figure object\n",
    "fig = go.Figure(data=[heatmap_trace], layout=layout)\n",
    "\n",
    "fig"
   ]
  },
  {
   "cell_type": "code",
   "execution_count": 142,
   "metadata": {},
   "outputs": [
    {
     "data": {
      "application/vnd.plotly.v1+json": {
       "config": {
        "plotlyServerURL": "https://plot.ly"
       },
       "data": [
        {
         "colorscale": [
          [
           0,
           "#440154"
          ],
          [
           0.1111111111111111,
           "#482878"
          ],
          [
           0.2222222222222222,
           "#3e4989"
          ],
          [
           0.3333333333333333,
           "#31688e"
          ],
          [
           0.4444444444444444,
           "#26828e"
          ],
          [
           0.5555555555555556,
           "#1f9e89"
          ],
          [
           0.6666666666666666,
           "#35b779"
          ],
          [
           0.7777777777777778,
           "#6ece58"
          ],
          [
           0.8888888888888888,
           "#b5de2b"
          ],
          [
           1,
           "#fde725"
          ]
         ],
         "type": "heatmap",
         "z": [
          [
           42,
           96,
           93,
           91,
           97
          ],
          [
           82,
           82,
           10,
           46,
           87
          ],
          [
           61,
           25,
           24,
           16,
           95
          ],
          [
           41,
           63,
           93,
           42,
           44
          ],
          [
           14,
           62,
           71,
           83,
           80
          ]
         ]
        },
        {
         "hoverinfo": "text",
         "text": [
          "0",
          "20",
          "40",
          "60",
          "80",
          "100"
         ],
         "type": "bar",
         "x": [
          0,
          0,
          0,
          0,
          0,
          0
         ],
         "y": [
          0,
          20,
          40,
          60,
          80,
          100
         ]
        }
       ],
       "layout": {
        "autosize": true,
        "grid": {
         "columns": 2,
         "pattern": "independent",
         "rows": 1
        },
        "template": {
         "data": {
          "bar": [
           {
            "error_x": {
             "color": "#2a3f5f"
            },
            "error_y": {
             "color": "#2a3f5f"
            },
            "marker": {
             "line": {
              "color": "#E5ECF6",
              "width": 0.5
             },
             "pattern": {
              "fillmode": "overlay",
              "size": 10,
              "solidity": 0.2
             }
            },
            "type": "bar"
           }
          ],
          "barpolar": [
           {
            "marker": {
             "line": {
              "color": "#E5ECF6",
              "width": 0.5
             },
             "pattern": {
              "fillmode": "overlay",
              "size": 10,
              "solidity": 0.2
             }
            },
            "type": "barpolar"
           }
          ],
          "carpet": [
           {
            "aaxis": {
             "endlinecolor": "#2a3f5f",
             "gridcolor": "white",
             "linecolor": "white",
             "minorgridcolor": "white",
             "startlinecolor": "#2a3f5f"
            },
            "baxis": {
             "endlinecolor": "#2a3f5f",
             "gridcolor": "white",
             "linecolor": "white",
             "minorgridcolor": "white",
             "startlinecolor": "#2a3f5f"
            },
            "type": "carpet"
           }
          ],
          "choropleth": [
           {
            "colorbar": {
             "outlinewidth": 0,
             "ticks": ""
            },
            "type": "choropleth"
           }
          ],
          "contour": [
           {
            "colorbar": {
             "outlinewidth": 0,
             "ticks": ""
            },
            "colorscale": [
             [
              0,
              "#0d0887"
             ],
             [
              0.1111111111111111,
              "#46039f"
             ],
             [
              0.2222222222222222,
              "#7201a8"
             ],
             [
              0.3333333333333333,
              "#9c179e"
             ],
             [
              0.4444444444444444,
              "#bd3786"
             ],
             [
              0.5555555555555556,
              "#d8576b"
             ],
             [
              0.6666666666666666,
              "#ed7953"
             ],
             [
              0.7777777777777778,
              "#fb9f3a"
             ],
             [
              0.8888888888888888,
              "#fdca26"
             ],
             [
              1,
              "#f0f921"
             ]
            ],
            "type": "contour"
           }
          ],
          "contourcarpet": [
           {
            "colorbar": {
             "outlinewidth": 0,
             "ticks": ""
            },
            "type": "contourcarpet"
           }
          ],
          "heatmap": [
           {
            "colorbar": {
             "outlinewidth": 0,
             "ticks": ""
            },
            "colorscale": [
             [
              0,
              "#0d0887"
             ],
             [
              0.1111111111111111,
              "#46039f"
             ],
             [
              0.2222222222222222,
              "#7201a8"
             ],
             [
              0.3333333333333333,
              "#9c179e"
             ],
             [
              0.4444444444444444,
              "#bd3786"
             ],
             [
              0.5555555555555556,
              "#d8576b"
             ],
             [
              0.6666666666666666,
              "#ed7953"
             ],
             [
              0.7777777777777778,
              "#fb9f3a"
             ],
             [
              0.8888888888888888,
              "#fdca26"
             ],
             [
              1,
              "#f0f921"
             ]
            ],
            "type": "heatmap"
           }
          ],
          "heatmapgl": [
           {
            "colorbar": {
             "outlinewidth": 0,
             "ticks": ""
            },
            "colorscale": [
             [
              0,
              "#0d0887"
             ],
             [
              0.1111111111111111,
              "#46039f"
             ],
             [
              0.2222222222222222,
              "#7201a8"
             ],
             [
              0.3333333333333333,
              "#9c179e"
             ],
             [
              0.4444444444444444,
              "#bd3786"
             ],
             [
              0.5555555555555556,
              "#d8576b"
             ],
             [
              0.6666666666666666,
              "#ed7953"
             ],
             [
              0.7777777777777778,
              "#fb9f3a"
             ],
             [
              0.8888888888888888,
              "#fdca26"
             ],
             [
              1,
              "#f0f921"
             ]
            ],
            "type": "heatmapgl"
           }
          ],
          "histogram": [
           {
            "marker": {
             "pattern": {
              "fillmode": "overlay",
              "size": 10,
              "solidity": 0.2
             }
            },
            "type": "histogram"
           }
          ],
          "histogram2d": [
           {
            "colorbar": {
             "outlinewidth": 0,
             "ticks": ""
            },
            "colorscale": [
             [
              0,
              "#0d0887"
             ],
             [
              0.1111111111111111,
              "#46039f"
             ],
             [
              0.2222222222222222,
              "#7201a8"
             ],
             [
              0.3333333333333333,
              "#9c179e"
             ],
             [
              0.4444444444444444,
              "#bd3786"
             ],
             [
              0.5555555555555556,
              "#d8576b"
             ],
             [
              0.6666666666666666,
              "#ed7953"
             ],
             [
              0.7777777777777778,
              "#fb9f3a"
             ],
             [
              0.8888888888888888,
              "#fdca26"
             ],
             [
              1,
              "#f0f921"
             ]
            ],
            "type": "histogram2d"
           }
          ],
          "histogram2dcontour": [
           {
            "colorbar": {
             "outlinewidth": 0,
             "ticks": ""
            },
            "colorscale": [
             [
              0,
              "#0d0887"
             ],
             [
              0.1111111111111111,
              "#46039f"
             ],
             [
              0.2222222222222222,
              "#7201a8"
             ],
             [
              0.3333333333333333,
              "#9c179e"
             ],
             [
              0.4444444444444444,
              "#bd3786"
             ],
             [
              0.5555555555555556,
              "#d8576b"
             ],
             [
              0.6666666666666666,
              "#ed7953"
             ],
             [
              0.7777777777777778,
              "#fb9f3a"
             ],
             [
              0.8888888888888888,
              "#fdca26"
             ],
             [
              1,
              "#f0f921"
             ]
            ],
            "type": "histogram2dcontour"
           }
          ],
          "mesh3d": [
           {
            "colorbar": {
             "outlinewidth": 0,
             "ticks": ""
            },
            "type": "mesh3d"
           }
          ],
          "parcoords": [
           {
            "line": {
             "colorbar": {
              "outlinewidth": 0,
              "ticks": ""
             }
            },
            "type": "parcoords"
           }
          ],
          "pie": [
           {
            "automargin": true,
            "type": "pie"
           }
          ],
          "scatter": [
           {
            "fillpattern": {
             "fillmode": "overlay",
             "size": 10,
             "solidity": 0.2
            },
            "type": "scatter"
           }
          ],
          "scatter3d": [
           {
            "line": {
             "colorbar": {
              "outlinewidth": 0,
              "ticks": ""
             }
            },
            "marker": {
             "colorbar": {
              "outlinewidth": 0,
              "ticks": ""
             }
            },
            "type": "scatter3d"
           }
          ],
          "scattercarpet": [
           {
            "marker": {
             "colorbar": {
              "outlinewidth": 0,
              "ticks": ""
             }
            },
            "type": "scattercarpet"
           }
          ],
          "scattergeo": [
           {
            "marker": {
             "colorbar": {
              "outlinewidth": 0,
              "ticks": ""
             }
            },
            "type": "scattergeo"
           }
          ],
          "scattergl": [
           {
            "marker": {
             "colorbar": {
              "outlinewidth": 0,
              "ticks": ""
             }
            },
            "type": "scattergl"
           }
          ],
          "scattermapbox": [
           {
            "marker": {
             "colorbar": {
              "outlinewidth": 0,
              "ticks": ""
             }
            },
            "type": "scattermapbox"
           }
          ],
          "scatterpolar": [
           {
            "marker": {
             "colorbar": {
              "outlinewidth": 0,
              "ticks": ""
             }
            },
            "type": "scatterpolar"
           }
          ],
          "scatterpolargl": [
           {
            "marker": {
             "colorbar": {
              "outlinewidth": 0,
              "ticks": ""
             }
            },
            "type": "scatterpolargl"
           }
          ],
          "scatterternary": [
           {
            "marker": {
             "colorbar": {
              "outlinewidth": 0,
              "ticks": ""
             }
            },
            "type": "scatterternary"
           }
          ],
          "surface": [
           {
            "colorbar": {
             "outlinewidth": 0,
             "ticks": ""
            },
            "colorscale": [
             [
              0,
              "#0d0887"
             ],
             [
              0.1111111111111111,
              "#46039f"
             ],
             [
              0.2222222222222222,
              "#7201a8"
             ],
             [
              0.3333333333333333,
              "#9c179e"
             ],
             [
              0.4444444444444444,
              "#bd3786"
             ],
             [
              0.5555555555555556,
              "#d8576b"
             ],
             [
              0.6666666666666666,
              "#ed7953"
             ],
             [
              0.7777777777777778,
              "#fb9f3a"
             ],
             [
              0.8888888888888888,
              "#fdca26"
             ],
             [
              1,
              "#f0f921"
             ]
            ],
            "type": "surface"
           }
          ],
          "table": [
           {
            "cells": {
             "fill": {
              "color": "#EBF0F8"
             },
             "line": {
              "color": "white"
             }
            },
            "header": {
             "fill": {
              "color": "#C8D4E3"
             },
             "line": {
              "color": "white"
             }
            },
            "type": "table"
           }
          ]
         },
         "layout": {
          "annotationdefaults": {
           "arrowcolor": "#2a3f5f",
           "arrowhead": 0,
           "arrowwidth": 1
          },
          "autotypenumbers": "strict",
          "coloraxis": {
           "colorbar": {
            "outlinewidth": 0,
            "ticks": ""
           }
          },
          "colorscale": {
           "diverging": [
            [
             0,
             "#8e0152"
            ],
            [
             0.1,
             "#c51b7d"
            ],
            [
             0.2,
             "#de77ae"
            ],
            [
             0.3,
             "#f1b6da"
            ],
            [
             0.4,
             "#fde0ef"
            ],
            [
             0.5,
             "#f7f7f7"
            ],
            [
             0.6,
             "#e6f5d0"
            ],
            [
             0.7,
             "#b8e186"
            ],
            [
             0.8,
             "#7fbc41"
            ],
            [
             0.9,
             "#4d9221"
            ],
            [
             1,
             "#276419"
            ]
           ],
           "sequential": [
            [
             0,
             "#0d0887"
            ],
            [
             0.1111111111111111,
             "#46039f"
            ],
            [
             0.2222222222222222,
             "#7201a8"
            ],
            [
             0.3333333333333333,
             "#9c179e"
            ],
            [
             0.4444444444444444,
             "#bd3786"
            ],
            [
             0.5555555555555556,
             "#d8576b"
            ],
            [
             0.6666666666666666,
             "#ed7953"
            ],
            [
             0.7777777777777778,
             "#fb9f3a"
            ],
            [
             0.8888888888888888,
             "#fdca26"
            ],
            [
             1,
             "#f0f921"
            ]
           ],
           "sequentialminus": [
            [
             0,
             "#0d0887"
            ],
            [
             0.1111111111111111,
             "#46039f"
            ],
            [
             0.2222222222222222,
             "#7201a8"
            ],
            [
             0.3333333333333333,
             "#9c179e"
            ],
            [
             0.4444444444444444,
             "#bd3786"
            ],
            [
             0.5555555555555556,
             "#d8576b"
            ],
            [
             0.6666666666666666,
             "#ed7953"
            ],
            [
             0.7777777777777778,
             "#fb9f3a"
            ],
            [
             0.8888888888888888,
             "#fdca26"
            ],
            [
             1,
             "#f0f921"
            ]
           ]
          },
          "colorway": [
           "#636efa",
           "#EF553B",
           "#00cc96",
           "#ab63fa",
           "#FFA15A",
           "#19d3f3",
           "#FF6692",
           "#B6E880",
           "#FF97FF",
           "#FECB52"
          ],
          "font": {
           "color": "#2a3f5f"
          },
          "geo": {
           "bgcolor": "white",
           "lakecolor": "white",
           "landcolor": "#E5ECF6",
           "showlakes": true,
           "showland": true,
           "subunitcolor": "white"
          },
          "hoverlabel": {
           "align": "left"
          },
          "hovermode": "closest",
          "mapbox": {
           "style": "light"
          },
          "paper_bgcolor": "white",
          "plot_bgcolor": "#E5ECF6",
          "polar": {
           "angularaxis": {
            "gridcolor": "white",
            "linecolor": "white",
            "ticks": ""
           },
           "bgcolor": "#E5ECF6",
           "radialaxis": {
            "gridcolor": "white",
            "linecolor": "white",
            "ticks": ""
           }
          },
          "scene": {
           "xaxis": {
            "backgroundcolor": "#E5ECF6",
            "gridcolor": "white",
            "gridwidth": 2,
            "linecolor": "white",
            "showbackground": true,
            "ticks": "",
            "zerolinecolor": "white"
           },
           "yaxis": {
            "backgroundcolor": "#E5ECF6",
            "gridcolor": "white",
            "gridwidth": 2,
            "linecolor": "white",
            "showbackground": true,
            "ticks": "",
            "zerolinecolor": "white"
           },
           "zaxis": {
            "backgroundcolor": "#E5ECF6",
            "gridcolor": "white",
            "gridwidth": 2,
            "linecolor": "white",
            "showbackground": true,
            "ticks": "",
            "zerolinecolor": "white"
           }
          },
          "shapedefaults": {
           "line": {
            "color": "#2a3f5f"
           }
          },
          "ternary": {
           "aaxis": {
            "gridcolor": "white",
            "linecolor": "white",
            "ticks": ""
           },
           "baxis": {
            "gridcolor": "white",
            "linecolor": "white",
            "ticks": ""
           },
           "bgcolor": "#E5ECF6",
           "caxis": {
            "gridcolor": "white",
            "linecolor": "white",
            "ticks": ""
           }
          },
          "title": {
           "x": 0.05
          },
          "xaxis": {
           "automargin": true,
           "gridcolor": "white",
           "linecolor": "white",
           "ticks": "",
           "title": {
            "standoff": 15
           },
           "zerolinecolor": "white",
           "zerolinewidth": 2
          },
          "yaxis": {
           "automargin": true,
           "gridcolor": "white",
           "linecolor": "white",
           "ticks": "",
           "title": {
            "standoff": 15
           },
           "zerolinecolor": "white",
           "zerolinewidth": 2
          }
         }
        },
        "xaxis": {
         "autorange": true,
         "range": [
          -0.5,
          4.5
         ],
         "showticklabels": false,
         "type": "linear"
        },
        "xaxis2": {
         "showticklabels": false
        },
        "yaxis": {
         "autorange": true,
         "range": [
          -0.5,
          315.8157894736842
         ],
         "showticklabels": false,
         "type": "linear"
        },
        "yaxis2": {
         "showticklabels": false
        }
       }
      },
      "image/png": "[encoded data removed]",
      "text/html": [
       "<div>                            <div id=\"9ae797d9-0243-4aed-9631-42e3b72e3074\" class=\"plotly-graph-div\" style=\"height:525px; width:100%;\"></div>            <script type=\"text/javascript\">                require([\"plotly\"], function(Plotly) {                    window.PLOTLYENV=window.PLOTLYENV || {};                                    if (document.getElementById(\"9ae797d9-0243-4aed-9631-42e3b72e3074\")) {                    Plotly.newPlot(                        \"9ae797d9-0243-4aed-9631-42e3b72e3074\",                        [{\"colorscale\":[[0.0,\"#440154\"],[0.1111111111111111,\"#482878\"],[0.2222222222222222,\"#3e4989\"],[0.3333333333333333,\"#31688e\"],[0.4444444444444444,\"#26828e\"],[0.5555555555555556,\"#1f9e89\"],[0.6666666666666666,\"#35b779\"],[0.7777777777777778,\"#6ece58\"],[0.8888888888888888,\"#b5de2b\"],[1.0,\"#fde725\"]],\"z\":[[42,96,93,91,97],[82,82,10,46,87],[61,25,24,16,95],[41,63,93,42,44],[14,62,71,83,80]],\"type\":\"heatmap\"},{\"hoverinfo\":\"text\",\"text\":[\"0\",\"20\",\"40\",\"60\",\"80\",\"100\"],\"x\":[0,0,0,0,0,0],\"y\":[0,20,40,60,80,100],\"type\":\"bar\"}],                        {\"grid\":{\"columns\":2,\"pattern\":\"independent\",\"rows\":1},\"xaxis\":{\"showticklabels\":false},\"yaxis\":{\"showticklabels\":false},\"xaxis2\":{\"showticklabels\":false},\"yaxis2\":{\"showticklabels\":false},\"template\":{\"data\":{\"histogram2dcontour\":[{\"type\":\"histogram2dcontour\",\"colorbar\":{\"outlinewidth\":0,\"ticks\":\"\"},\"colorscale\":[[0.0,\"#0d0887\"],[0.1111111111111111,\"#46039f\"],[0.2222222222222222,\"#7201a8\"],[0.3333333333333333,\"#9c179e\"],[0.4444444444444444,\"#bd3786\"],[0.5555555555555556,\"#d8576b\"],[0.6666666666666666,\"#ed7953\"],[0.7777777777777778,\"#fb9f3a\"],[0.8888888888888888,\"#fdca26\"],[1.0,\"#f0f921\"]]}],\"choropleth\":[{\"type\":\"choropleth\",\"colorbar\":{\"outlinewidth\":0,\"ticks\":\"\"}}],\"histogram2d\":[{\"type\":\"histogram2d\",\"colorbar\":{\"outlinewidth\":0,\"ticks\":\"\"},\"colorscale\":[[0.0,\"#0d0887\"],[0.1111111111111111,\"#46039f\"],[0.2222222222222222,\"#7201a8\"],[0.3333333333333333,\"#9c179e\"],[0.4444444444444444,\"#bd3786\"],[0.5555555555555556,\"#d8576b\"],[0.6666666666666666,\"#ed7953\"],[0.7777777777777778,\"#fb9f3a\"],[0.8888888888888888,\"#fdca26\"],[1.0,\"#f0f921\"]]}],\"heatmap\":[{\"type\":\"heatmap\",\"colorbar\":{\"outlinewidth\":0,\"ticks\":\"\"},\"colorscale\":[[0.0,\"#0d0887\"],[0.1111111111111111,\"#46039f\"],[0.2222222222222222,\"#7201a8\"],[0.3333333333333333,\"#9c179e\"],[0.4444444444444444,\"#bd3786\"],[0.5555555555555556,\"#d8576b\"],[0.6666666666666666,\"#ed7953\"],[0.7777777777777778,\"#fb9f3a\"],[0.8888888888888888,\"#fdca26\"],[1.0,\"#f0f921\"]]}],\"heatmapgl\":[{\"type\":\"heatmapgl\",\"colorbar\":{\"outlinewidth\":0,\"ticks\":\"\"},\"colorscale\":[[0.0,\"#0d0887\"],[0.1111111111111111,\"#46039f\"],[0.2222222222222222,\"#7201a8\"],[0.3333333333333333,\"#9c179e\"],[0.4444444444444444,\"#bd3786\"],[0.5555555555555556,\"#d8576b\"],[0.6666666666666666,\"#ed7953\"],[0.7777777777777778,\"#fb9f3a\"],[0.8888888888888888,\"#fdca26\"],[1.0,\"#f0f921\"]]}],\"contourcarpet\":[{\"type\":\"contourcarpet\",\"colorbar\":{\"outlinewidth\":0,\"ticks\":\"\"}}],\"contour\":[{\"type\":\"contour\",\"colorbar\":{\"outlinewidth\":0,\"ticks\":\"\"},\"colorscale\":[[0.0,\"#0d0887\"],[0.1111111111111111,\"#46039f\"],[0.2222222222222222,\"#7201a8\"],[0.3333333333333333,\"#9c179e\"],[0.4444444444444444,\"#bd3786\"],[0.5555555555555556,\"#d8576b\"],[0.6666666666666666,\"#ed7953\"],[0.7777777777777778,\"#fb9f3a\"],[0.8888888888888888,\"#fdca26\"],[1.0,\"#f0f921\"]]}],\"surface\":[{\"type\":\"surface\",\"colorbar\":{\"outlinewidth\":0,\"ticks\":\"\"},\"colorscale\":[[0.0,\"#0d0887\"],[0.1111111111111111,\"#46039f\"],[0.2222222222222222,\"#7201a8\"],[0.3333333333333333,\"#9c179e\"],[0.4444444444444444,\"#bd3786\"],[0.5555555555555556,\"#d8576b\"],[0.6666666666666666,\"#ed7953\"],[0.7777777777777778,\"#fb9f3a\"],[0.8888888888888888,\"#fdca26\"],[1.0,\"#f0f921\"]]}],\"mesh3d\":[{\"type\":\"mesh3d\",\"colorbar\":{\"outlinewidth\":0,\"ticks\":\"\"}}],\"scatter\":[{\"fillpattern\":{\"fillmode\":\"overlay\",\"size\":10,\"solidity\":0.2},\"type\":\"scatter\"}],\"parcoords\":[{\"type\":\"parcoords\",\"line\":{\"colorbar\":{\"outlinewidth\":0,\"ticks\":\"\"}}}],\"scatterpolargl\":[{\"type\":\"scatterpolargl\",\"marker\":{\"colorbar\":{\"outlinewidth\":0,\"ticks\":\"\"}}}],\"bar\":[{\"error_x\":{\"color\":\"#2a3f5f\"},\"error_y\":{\"color\":\"#2a3f5f\"},\"marker\":{\"line\":{\"color\":\"#E5ECF6\",\"width\":0.5},\"pattern\":{\"fillmode\":\"overlay\",\"size\":10,\"solidity\":0.2}},\"type\":\"bar\"}],\"scattergeo\":[{\"type\":\"scattergeo\",\"marker\":{\"colorbar\":{\"outlinewidth\":0,\"ticks\":\"\"}}}],\"scatterpolar\":[{\"type\":\"scatterpolar\",\"marker\":{\"colorbar\":{\"outlinewidth\":0,\"ticks\":\"\"}}}],\"histogram\":[{\"marker\":{\"pattern\":{\"fillmode\":\"overlay\",\"size\":10,\"solidity\":0.2}},\"type\":\"histogram\"}],\"scattergl\":[{\"type\":\"scattergl\",\"marker\":{\"colorbar\":{\"outlinewidth\":0,\"ticks\":\"\"}}}],\"scatter3d\":[{\"type\":\"scatter3d\",\"line\":{\"colorbar\":{\"outlinewidth\":0,\"ticks\":\"\"}},\"marker\":{\"colorbar\":{\"outlinewidth\":0,\"ticks\":\"\"}}}],\"scattermapbox\":[{\"type\":\"scattermapbox\",\"marker\":{\"colorbar\":{\"outlinewidth\":0,\"ticks\":\"\"}}}],\"scatterternary\":[{\"type\":\"scatterternary\",\"marker\":{\"colorbar\":{\"outlinewidth\":0,\"ticks\":\"\"}}}],\"scattercarpet\":[{\"type\":\"scattercarpet\",\"marker\":{\"colorbar\":{\"outlinewidth\":0,\"ticks\":\"\"}}}],\"carpet\":[{\"aaxis\":{\"endlinecolor\":\"#2a3f5f\",\"gridcolor\":\"white\",\"linecolor\":\"white\",\"minorgridcolor\":\"white\",\"startlinecolor\":\"#2a3f5f\"},\"baxis\":{\"endlinecolor\":\"#2a3f5f\",\"gridcolor\":\"white\",\"linecolor\":\"white\",\"minorgridcolor\":\"white\",\"startlinecolor\":\"#2a3f5f\"},\"type\":\"carpet\"}],\"table\":[{\"cells\":{\"fill\":{\"color\":\"#EBF0F8\"},\"line\":{\"color\":\"white\"}},\"header\":{\"fill\":{\"color\":\"#C8D4E3\"},\"line\":{\"color\":\"white\"}},\"type\":\"table\"}],\"barpolar\":[{\"marker\":{\"line\":{\"color\":\"#E5ECF6\",\"width\":0.5},\"pattern\":{\"fillmode\":\"overlay\",\"size\":10,\"solidity\":0.2}},\"type\":\"barpolar\"}],\"pie\":[{\"automargin\":true,\"type\":\"pie\"}]},\"layout\":{\"autotypenumbers\":\"strict\",\"colorway\":[\"#636efa\",\"#EF553B\",\"#00cc96\",\"#ab63fa\",\"#FFA15A\",\"#19d3f3\",\"#FF6692\",\"#B6E880\",\"#FF97FF\",\"#FECB52\"],\"font\":{\"color\":\"#2a3f5f\"},\"hovermode\":\"closest\",\"hoverlabel\":{\"align\":\"left\"},\"paper_bgcolor\":\"white\",\"plot_bgcolor\":\"#E5ECF6\",\"polar\":{\"bgcolor\":\"#E5ECF6\",\"angularaxis\":{\"gridcolor\":\"white\",\"linecolor\":\"white\",\"ticks\":\"\"},\"radialaxis\":{\"gridcolor\":\"white\",\"linecolor\":\"white\",\"ticks\":\"\"}},\"ternary\":{\"bgcolor\":\"#E5ECF6\",\"aaxis\":{\"gridcolor\":\"white\",\"linecolor\":\"white\",\"ticks\":\"\"},\"baxis\":{\"gridcolor\":\"white\",\"linecolor\":\"white\",\"ticks\":\"\"},\"caxis\":{\"gridcolor\":\"white\",\"linecolor\":\"white\",\"ticks\":\"\"}},\"coloraxis\":{\"colorbar\":{\"outlinewidth\":0,\"ticks\":\"\"}},\"colorscale\":{\"sequential\":[[0.0,\"#0d0887\"],[0.1111111111111111,\"#46039f\"],[0.2222222222222222,\"#7201a8\"],[0.3333333333333333,\"#9c179e\"],[0.4444444444444444,\"#bd3786\"],[0.5555555555555556,\"#d8576b\"],[0.6666666666666666,\"#ed7953\"],[0.7777777777777778,\"#fb9f3a\"],[0.8888888888888888,\"#fdca26\"],[1.0,\"#f0f921\"]],\"sequentialminus\":[[0.0,\"#0d0887\"],[0.1111111111111111,\"#46039f\"],[0.2222222222222222,\"#7201a8\"],[0.3333333333333333,\"#9c179e\"],[0.4444444444444444,\"#bd3786\"],[0.5555555555555556,\"#d8576b\"],[0.6666666666666666,\"#ed7953\"],[0.7777777777777778,\"#fb9f3a\"],[0.8888888888888888,\"#fdca26\"],[1.0,\"#f0f921\"]],\"diverging\":[[0,\"#8e0152\"],[0.1,\"#c51b7d\"],[0.2,\"#de77ae\"],[0.3,\"#f1b6da\"],[0.4,\"#fde0ef\"],[0.5,\"#f7f7f7\"],[0.6,\"#e6f5d0\"],[0.7,\"#b8e186\"],[0.8,\"#7fbc41\"],[0.9,\"#4d9221\"],[1,\"#276419\"]]},\"xaxis\":{\"gridcolor\":\"white\",\"linecolor\":\"white\",\"ticks\":\"\",\"title\":{\"standoff\":15},\"zerolinecolor\":\"white\",\"automargin\":true,\"zerolinewidth\":2},\"yaxis\":{\"gridcolor\":\"white\",\"linecolor\":\"white\",\"ticks\":\"\",\"title\":{\"standoff\":15},\"zerolinecolor\":\"white\",\"automargin\":true,\"zerolinewidth\":2},\"scene\":{\"xaxis\":{\"backgroundcolor\":\"#E5ECF6\",\"gridcolor\":\"white\",\"linecolor\":\"white\",\"showbackground\":true,\"ticks\":\"\",\"zerolinecolor\":\"white\",\"gridwidth\":2},\"yaxis\":{\"backgroundcolor\":\"#E5ECF6\",\"gridcolor\":\"white\",\"linecolor\":\"white\",\"showbackground\":true,\"ticks\":\"\",\"zerolinecolor\":\"white\",\"gridwidth\":2},\"zaxis\":{\"backgroundcolor\":\"#E5ECF6\",\"gridcolor\":\"white\",\"linecolor\":\"white\",\"showbackground\":true,\"ticks\":\"\",\"zerolinecolor\":\"white\",\"gridwidth\":2}},\"shapedefaults\":{\"line\":{\"color\":\"#2a3f5f\"}},\"annotationdefaults\":{\"arrowcolor\":\"#2a3f5f\",\"arrowhead\":0,\"arrowwidth\":1},\"geo\":{\"bgcolor\":\"white\",\"landcolor\":\"#E5ECF6\",\"subunitcolor\":\"white\",\"showland\":true,\"showlakes\":true,\"lakecolor\":\"white\"},\"title\":{\"x\":0.05},\"mapbox\":{\"style\":\"light\"}}}},                        {\"responsive\": true}                    ).then(function(){\n",
       "                            \n",
       "var gd = document.getElementById('9ae797d9-0243-4aed-9631-42e3b72e3074');\n",
       "var x = new MutationObserver(function (mutations, observer) {{\n",
       "        var display = window.getComputedStyle(gd).display;\n",
       "        if (!display || display === 'none') {{\n",
       "            console.log([gd, 'removed!']);\n",
       "            Plotly.purge(gd);\n",
       "            observer.disconnect();\n",
       "        }}\n",
       "}});\n",
       "\n",
       "// Listen for the removal of the full notebook cells\n",
       "var notebookContainer = gd.closest('#notebook-container');\n",
       "if (notebookContainer) {{\n",
       "    x.observe(notebookContainer, {childList: true});\n",
       "}}\n",
       "\n",
       "// Listen for the clearing of the current output cell\n",
       "var outputEl = gd.closest('.output');\n",
       "if (outputEl) {{\n",
       "    x.observe(outputEl, {childList: true});\n",
       "}}\n",
       "\n",
       "                        })                };                });            </script>        </div>"
      ]
     },
     "metadata": {},
     "output_type": "display_data"
    }
   ],
   "source": [
    "import plotly.graph_objects as go\n",
    "import numpy as np\n",
    "\n",
    "# Create heatmap data (random data for this example)\n",
    "heatmap_data = np.random.randint(0, 100, size=(5, 5))\n",
    "\n",
    "# Create the heatmap trace\n",
    "heatmap_trace = go.Heatmap(\n",
    "    z=heatmap_data,\n",
    "    colorscale='Viridis',  # Customize the colorscale\n",
    ")\n",
    "\n",
    "# Create legend-like data and trace\n",
    "legend_data = [0, 20, 40, 60, 80, 100]\n",
    "legend_text = ['0', '20', '40', '60', '80', '100']\n",
    "\n",
    "legend_trace = go.Bar(\n",
    "    x=[0] * len(legend_data),\n",
    "    y=legend_data,\n",
    "    text=legend_text,\n",
    "    hoverinfo='text',\n",
    "    \n",
    ")\n",
    "\n",
    "# Create the layout\n",
    "layout = go.Layout(\n",
    "    grid={'rows': 1, 'columns': 2, 'pattern': 'independent'},\n",
    "    xaxis1={'showticklabels': False},\n",
    "    yaxis1={'showticklabels': False},\n",
    "    xaxis2={'showticklabels': False},\n",
    "    yaxis2={'showticklabels': False},\n",
    ")\n",
    "\n",
    "# Create the subplot figure and add both the heatmap and legend traces to it\n",
    "fig = go.Figure(data=[heatmap_trace, legend_trace], layout=layout)\n",
    "\n",
    "# Show the plot in your Jupyter Notebook or IDE\n",
    "fig.show()"
   ]
  },
  {
   "cell_type": "code",
   "execution_count": 99,
   "metadata": {},
   "outputs": [
    {
     "name": "stdout",
     "output_type": "stream",
     "text": [
      "    0   1   2\n",
      "0  10  18  11\n",
      "1  13  15   8\n",
      "2   9  20   3\n",
      "[32, 53, 22]\n"
     ]
    }
   ],
   "source": [
    "import pandas as pd\n",
    "\n",
    "data = [[10, 18, 11], [13, 15, 8], [9, 20, 3]]\n",
    "\n",
    "df = pd.DataFrame(data)\n",
    "print(df)\n",
    "print(list(df.sum()))"
   ]
  }
 ],
 "metadata": {
  "kernelspec": {
   "display_name": "Python 3 (ipykernel)",
   "language": "python",
   "name": "python3"
  },
  "language_info": {
   "codemirror_mode": {
    "name": "ipython",
    "version": 3
   },
   "file_extension": ".py",
   "mimetype": "text/x-python",
   "name": "python",
   "nbconvert_exporter": "python",
   "pygments_lexer": "ipython3",
   "version": "3.9.6"
  }
 },
 "nbformat": 4,
 "nbformat_minor": 4
}
