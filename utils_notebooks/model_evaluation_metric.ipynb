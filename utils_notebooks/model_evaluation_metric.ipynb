{
 "cells": [
  {
   "cell_type": "code",
   "execution_count": 125,
   "id": "bf2e5a63",
   "metadata": {},
   "outputs": [],
   "source": [
    "import os\n",
    "import pandas as pd\n",
    "import numpy as np\n",
    "from natsort import natsorted\n",
    "from sklearn import metrics"
   ]
  },
  {
   "cell_type": "code",
   "execution_count": 126,
   "id": "b23ca6b4",
   "metadata": {},
   "outputs": [],
   "source": [
    "data_path = \"/Users/imrankabir/Desktop/research/vqa_accessibility/Dashboard-For-VQA/Dashboard Data\"\n",
    "gt_fol = os.path.join(data_path, \"GT\")"
   ]
  },
  {
   "cell_type": "code",
   "execution_count": 227,
   "id": "70f78f9c",
   "metadata": {},
   "outputs": [],
   "source": [
    "def get_mAP(targets, preds):\n",
    "    APs = np.zeros(preds.shape[1])\n",
    "    for k in range(preds.shape[1]):\n",
    "        APs[k] = _average_precision_2(targets[:, k], preds[:, k])\n",
    "\n",
    "    return APs\n",
    "\n",
    "\n",
    "def _average_precision_2(target, output):\n",
    "    epsilon = 1e-8\n",
    "\n",
    "    total_pred_pos = np.count_nonzero(output)\n",
    "\n",
    "    TP = np.count_nonzero(np.logical_and(output, target))\n",
    "    FP = total_pred_pos - TP\n",
    "\n",
    "    AP = TP / (TP + FP + epsilon)\n",
    "\n",
    "    return AP\n",
    "\n",
    "\n",
    "def calculate_model_map(gt_path, pred_path):\n",
    "    gt_dict = {}\n",
    "    pred_dict = {}\n",
    "    \n",
    "    gt_files = [x for x in os.listdir(gt_path) if x.endswith('.csv') and int(x.split('-')[1])<=16]\n",
    "\n",
    "    for fl in gt_files:\n",
    "        if fl in [\"video-10-segment-1.csv\", \"video-9-segment-2.csv\"]:\n",
    "            continue\n",
    "        gt_fl = os.path.join(gt_path, fl)\n",
    "        pred_fl = os.path.join(pred_path, fl)\n",
    "        if not os.path.exists(pred_fl):\n",
    "            continue\n",
    "\n",
    "        gt_data = pd.read_csv(gt_fl)\n",
    "        gt_data.replace(-1, 1, inplace=True) \n",
    "        x = []\n",
    "        for index, row in gt_data.iterrows():\n",
    "            if list(row)[0].strip() in [\"Sidewalk pits\"]:\n",
    "                continue\n",
    "            if list(row)[0].strip() in gt_dict.keys():\n",
    "                gt_dict[list(row)[0].strip()] += list(row)[1:]\n",
    "            else:\n",
    "                gt_dict[list(row)[0].strip()] = list(row)[1:]\n",
    "\n",
    "            x.append(len(list(row)[1:]))\n",
    "\n",
    "        y = []    \n",
    "        pred_data = pd.read_csv(pred_fl)\n",
    "        pred_data.replace(-1, 1, inplace=True) \n",
    "        for index, row in pred_data.iterrows():\n",
    "            if list(row)[0].strip() in [\"Sidewalk pits\"]:\n",
    "                continue\n",
    "            if list(row)[0].strip() in pred_dict.keys():\n",
    "                pred_dict[list(row)[0].strip()] += list(row)[1:]\n",
    "            else:\n",
    "                pred_dict[list(row)[0].strip()] = list(row)[1:]\n",
    "            y.append(len(list(row)[1:]))\n",
    "            \n",
    "        if x != y:\n",
    "            print(len(x), len(y), fl)\n",
    "    \n",
    "    target_array = []\n",
    "    pred_array = []\n",
    "\n",
    "    for key in gt_dict.keys():\n",
    "        if key in pred_dict.keys():\n",
    "            if len(gt_dict[key]) == len(pred_dict[key]):\n",
    "                target_array.append(gt_dict[key])\n",
    "                pred_array.append(pred_dict[key])\n",
    "            else:\n",
    "                print(len(gt_dict[key]), len(pred_dict[key]), key)\n",
    "\n",
    "    target_array = np.array(target_array).T\n",
    "    pred_array = np.array(pred_array).T\n",
    "    \n",
    "    try:\n",
    "        # ap = np.array(metrics.precision_score(target_array, pred_array, average=None))\n",
    "        ap_2 = get_mAP(target_array, pred_array)\n",
    "    except:\n",
    "        # ap = 0\n",
    "        ap_2 = 0\n",
    "        print(target_array.shape, pred_array.shape)\n",
    "    \n",
    "    return ap_2, ap_2"
   ]
  },
  {
   "cell_type": "code",
   "execution_count": 228,
   "id": "b6c60e36",
   "metadata": {},
   "outputs": [
    {
     "name": "stdout",
     "output_type": "stream",
     "text": [
      "0.23132030614136453 0.23132030614136453\n"
     ]
    }
   ],
   "source": [
    "pred_fol = os.path.join(data_path, \"BLIP\")\n",
    "apg, apg_2 = calculate_model_map(gt_fol, pred_fol)\n",
    "\n",
    "print(apg.mean(), apg_2.mean())"
   ]
  },
  {
   "cell_type": "code",
   "execution_count": 229,
   "id": "2375a4c6",
   "metadata": {},
   "outputs": [
    {
     "name": "stdout",
     "output_type": "stream",
     "text": [
      "0.19984905268298686 0.19984905268298686\n"
     ]
    }
   ],
   "source": [
    "pred_fol = os.path.join(data_path, \"GPV-1\")\n",
    "apg, apg_2 = calculate_model_map(gt_fol, pred_fol)\n",
    "\n",
    "print(apg.mean(), apg_2.mean())"
   ]
  },
  {
   "cell_type": "code",
   "execution_count": 230,
   "id": "003d26d7",
   "metadata": {},
   "outputs": [
    {
     "name": "stdout",
     "output_type": "stream",
     "text": [
      "0.1019004699310333 0.1019004699310333\n"
     ]
    }
   ],
   "source": [
    "pred_fol = os.path.join(data_path, \"yolo_v7\")\n",
    "apg, apg_2 = calculate_model_map(gt_fol, pred_fol)\n",
    "\n",
    "print(apg.mean(), apg_2.mean())"
   ]
  },
  {
   "cell_type": "code",
   "execution_count": 231,
   "id": "71307355",
   "metadata": {},
   "outputs": [
    {
     "name": "stdout",
     "output_type": "stream",
     "text": [
      "0.08170082537543284 0.08170082537543284\n"
     ]
    }
   ],
   "source": [
    "pred_fol = os.path.join(data_path, \"HRNet_V2\")\n",
    "apg, apg_2 = calculate_model_map(gt_fol, pred_fol)\n",
    "\n",
    "print(apg.mean(), apg_2.mean())"
   ]
  },
  {
   "cell_type": "code",
   "execution_count": 232,
   "id": "390dce38",
   "metadata": {},
   "outputs": [
    {
     "name": "stdout",
     "output_type": "stream",
     "text": [
      "0.056110478031014654 0.056110478031014654\n"
     ]
    }
   ],
   "source": [
    "pred_fol = os.path.join(data_path, \"mask_rcnn\")\n",
    "apg, apg_2 = calculate_model_map(gt_fol, pred_fol)\n",
    "\n",
    "print(apg.mean(), apg_2.mean())"
   ]
  },
  {
   "cell_type": "code",
   "execution_count": 233,
   "id": "9960e497",
   "metadata": {},
   "outputs": [
    {
     "name": "stdout",
     "output_type": "stream",
     "text": [
      "0.05574902585860564 0.05574902585860564\n"
     ]
    }
   ],
   "source": [
    "pred_fol = os.path.join(data_path, \"faster_rcnn\")\n",
    "apg, apg_2 = calculate_model_map(gt_fol, pred_fol)\n",
    "\n",
    "print(apg.mean(), apg_2.mean())"
   ]
  },
  {
   "cell_type": "code",
   "execution_count": 234,
   "id": "b5b67ed0",
   "metadata": {},
   "outputs": [
    {
     "name": "stdout",
     "output_type": "stream",
     "text": [
      "0.13666928138079906 0.13666928138079906\n"
     ]
    }
   ],
   "source": [
    "pred_fol = os.path.join(data_path, \"Random\")\n",
    "apg, apg_2 = calculate_model_map(gt_fol, pred_fol)\n",
    "\n",
    "print(apg.mean(), apg_2.mean())"
   ]
  }
 ],
 "metadata": {
  "kernelspec": {
   "display_name": "Python 3 (ipykernel)",
   "language": "python",
   "name": "python3"
  },
  "language_info": {
   "codemirror_mode": {
    "name": "ipython",
    "version": 3
   },
   "file_extension": ".py",
   "mimetype": "text/x-python",
   "name": "python",
   "nbconvert_exporter": "python",
   "pygments_lexer": "ipython3",
   "version": "3.10.9"
  }
 },
 "nbformat": 4,
 "nbformat_minor": 5
}
