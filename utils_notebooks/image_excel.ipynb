{
 "cells": [
  {
   "cell_type": "code",
   "execution_count": 2,
   "id": "09594ec2-9094-498a-90d9-4536e53c0c37",
   "metadata": {},
   "outputs": [],
   "source": [
    "import os\n",
    "import glob\n",
    "import cv2\n",
    "from PIL import Image\n",
    "import numpy as np\n",
    "from openpyxl import Workbook\n",
    "from openpyxl.drawing.image import Image as Image_openpyxl\n",
    "from openpyxl.utils import get_column_letter\n",
    "from openpyxl.styles import Alignment\n",
    "from natsort import natsorted"
   ]
  },
  {
   "cell_type": "code",
   "execution_count": 3,
   "id": "1207fed9-c315-4ed6-a789-f954f71b41ef",
   "metadata": {},
   "outputs": [],
   "source": [
    "gt_dir = \"/Users/imrankabir/Desktop/research/vqa_accessibility/Dashboard-For-VQA/Dashboard Data/GT_N\"\n",
    "images_dir = '/Users/imrankabir/Desktop/research/vqa_accessibility/Dashboard-For-VQA/Dashboard Data/Images'"
   ]
  },
  {
   "cell_type": "code",
   "execution_count": 4,
   "id": "a402c67e-a582-4a83-b781-1ceb531d1efc",
   "metadata": {},
   "outputs": [],
   "source": [
    "def create_collage(list_of_images, width=1000, height=563):\n",
    "    cols = 4\n",
    "    rows = (len(list_of_images) // 4) + 1\n",
    "    width = width\n",
    "    height = int((rows / cols) * height)\n",
    "    thumbnail_width = width//cols\n",
    "    thumbnail_height = height//rows\n",
    "    size = thumbnail_width, thumbnail_height\n",
    "    new_im = Image.new('RGB', (width, height))\n",
    "    ims = []\n",
    "    for p in list_of_images:\n",
    "        im = Image.open(p)\n",
    "        im.thumbnail(size)\n",
    "        ims.append(im)\n",
    "    i = 0\n",
    "    x = 0\n",
    "    y = 0\n",
    "    b_l = False\n",
    "    for row in range(rows):\n",
    "        for col in range(cols):\n",
    "            if i >= len(list_of_images):\n",
    "                b_l = True\n",
    "                break\n",
    "            # print(y, x)\n",
    "            new_im.paste(ims[i], (x, y))\n",
    "            i += 1\n",
    "            if row % 2 == 0:  \n",
    "                x += thumbnail_width + 10\n",
    "            else:\n",
    "                x -= thumbnail_width + 10\n",
    "        y += thumbnail_height\n",
    "        if row % 2 == 0:  \n",
    "            x -= thumbnail_width + 10\n",
    "        else:\n",
    "            x += thumbnail_width + 10\n",
    "        if b_l:\n",
    "            break\n",
    "\n",
    "    return new_im"
   ]
  },
  {
   "cell_type": "code",
   "execution_count": 5,
   "id": "8424510a-703b-4f8d-9838-bfaed41626f0",
   "metadata": {},
   "outputs": [],
   "source": [
    "def create_image_collage(img_dir, f_n, width=1000, height=563):\n",
    "    images_path = natsorted(glob.glob(\n",
    "        os.path.join(\n",
    "            img_dir,\n",
    "            f'{f_n}*'\n",
    "        )\n",
    "    ))\n",
    "\n",
    "    new_im = create_collage(images_path, width, height)\n",
    "    return new_im"
   ]
  },
  {
   "cell_type": "code",
   "execution_count": 6,
   "id": "cf208364-4492-432f-b02d-c1d098a89971",
   "metadata": {},
   "outputs": [],
   "source": [
    "pth = \"/Users/imrankabir/Desktop/corr_plots_vtrbi\"\n",
    "\n",
    "all_corr_plot = create_image_collage(pth, \"\", width=2150, height=1580)"
   ]
  },
  {
   "cell_type": "code",
   "execution_count": 7,
   "id": "d7ae9e37-866d-40b0-af5d-0f24c3aa157e",
   "metadata": {},
   "outputs": [],
   "source": [
    "all_corr_plot.save(\"corr_plots_vtrbi_2.png\")"
   ]
  },
  {
   "cell_type": "code",
   "execution_count": 99,
   "id": "f27f77b9-de58-42f6-a267-dd7e2990cde7",
   "metadata": {},
   "outputs": [],
   "source": [
    "gts = natsorted(os.listdir(gt_dir))\n",
    "\n",
    "skip_list = [\n",
    "    \"video-10-segment-1.csv\", \"video-9-segment-2.csv\"\n",
    "]\n",
    "\n",
    "gts = [x.split('.')[0] for x in gts if x.endswith('.csv') and int(x.split('-')[1])<=16 and x not in skip_list]"
   ]
  },
  {
   "cell_type": "code",
   "execution_count": 100,
   "id": "5bb245e8-b401-405a-a6c5-15629d41e346",
   "metadata": {},
   "outputs": [],
   "source": [
    "workbook = Workbook()\n",
    "worksheet = workbook.active\n",
    "out_plot_path = './col_image'\n",
    "\n",
    "r = 2\n",
    "c = 1\n",
    "worksheet.row_dimensions[r].height = 1950\n",
    "for gt in gts:\n",
    "    v_ = int(gt.split('-')[1])\n",
    "    s_ = int(gt.split('-')[3])\n",
    "\n",
    "    worksheet.cell(row=1, column=c).value = f'Video {v_} Segment {s_}'\n",
    "    worksheet.cell(row=1, column=c).alignment = Alignment(horizontal='center', vertical='center')\n",
    "        \n",
    "    collage_img = create_image_collage(images_dir, gt)\n",
    "\n",
    "    img_out_name = os.path.join(out_plot_path, f'v{v_}s{s_}.png')\n",
    "\n",
    "    collage_img.save(\n",
    "        img_out_name\n",
    "    )\n",
    "\n",
    "    worksheet.column_dimensions[get_column_letter(c)].width = 128\n",
    "\n",
    "    anchor = f'{get_column_letter(c)}{r}'\n",
    "    # worksheet.add_image(Image_openpyxl(img_out_name), anchor=anchor)\n",
    "    img = Image_openpyxl(img_out_name) \n",
    "\n",
    "    worksheet.add_image(img, anchor=anchor)\n",
    "\n",
    "    c = c + 1\n",
    "\n",
    "workbook.save('image_report.xlsx')"
   ]
  },
  {
   "cell_type": "code",
   "execution_count": null,
   "id": "106cf0f8-c55d-40e6-80a5-9191281f5704",
   "metadata": {},
   "outputs": [],
   "source": []
  }
 ],
 "metadata": {
  "kernelspec": {
   "display_name": "Python 3 (ipykernel)",
   "language": "python",
   "name": "python3"
  },
  "language_info": {
   "codemirror_mode": {
    "name": "ipython",
    "version": 3
   },
   "file_extension": ".py",
   "mimetype": "text/x-python",
   "name": "python",
   "nbconvert_exporter": "python",
   "pygments_lexer": "ipython3",
   "version": "3.9.6"
  }
 },
 "nbformat": 4,
 "nbformat_minor": 5
}
