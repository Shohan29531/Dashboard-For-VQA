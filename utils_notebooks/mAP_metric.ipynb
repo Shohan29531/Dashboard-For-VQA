{
 "cells": [
  {
   "cell_type": "code",
   "execution_count": 262,
   "metadata": {
    "ExecuteTime": {
     "end_time": "2023-09-27T21:10:43.175041Z",
     "start_time": "2023-09-27T21:10:43.168618Z"
    },
    "collapsed": true
   },
   "outputs": [],
   "source": [
    "from typing import List, Tuple\n",
    "\n",
    "import numpy as np\n",
    "from numpy import ndarray\n",
    "\n",
    "\n",
    "def get_mAP(\n",
    "    preds: ndarray,\n",
    "    targets: ndarray\n",
    ") -> Tuple[float, ndarray]:\n",
    "\n",
    "    # compute average precision for each class\n",
    "    APs = np.zeros(preds.shape[1])\n",
    "    for k in range(preds.shape[1]):\n",
    "        # print(preds[:, k], targets[:, k])\n",
    "        APs[k] = _average_precision_2(preds[:, k], targets[:, k])\n",
    "\n",
    "    return APs.mean(), APs\n",
    "\n",
    "\n",
    "def _average_precision(output: ndarray, target: ndarray) -> float:\n",
    "    # print(output, target)\n",
    "    epsilon = 1e-8\n",
    "\n",
    "    # sort examples\n",
    "    indices = output.argsort()[::-1]\n",
    "    # Computes prec@i\n",
    "    total_count_ = np.cumsum(np.ones((len(output), 1)))\n",
    "\n",
    "    target_ = target[indices]\n",
    "\n",
    "    ind = target_ == 1\n",
    "\n",
    "    pos_count_ = np.cumsum(ind)\n",
    "\n",
    "    total = pos_count_[-1]\n",
    "    pos_count_[np.logical_not(ind)] = 0\n",
    "\n",
    "    pp = pos_count_ / total_count_\n",
    "    precision_at_i_ = np.sum(pp)\n",
    "    # print(pp, precision_at_i_, pos_count_, total_count_)\n",
    "    precision_at_i = precision_at_i_ / (total + epsilon)\n",
    "\n",
    "    return precision_at_i\n",
    "\n",
    "\n",
    "def _average_precision_2(output: ndarray, target: ndarray) -> float:\n",
    "    # print(output, target)\n",
    "    epsilon = 1e-8\n",
    "\n",
    "    total_pred_pos = np.count_nonzero(output)\n",
    "\n",
    "    TP = np.count_nonzero(np.logical_and(output, target))\n",
    "    FP = total_pred_pos - TP\n",
    "\n",
    "    AP = TP / (TP + FP + epsilon)\n",
    "\n",
    "    return AP"
   ]
  },
  {
   "cell_type": "code",
   "execution_count": 263,
   "metadata": {
    "ExecuteTime": {
     "end_time": "2023-09-27T21:10:44.272027Z",
     "start_time": "2023-09-27T21:10:44.256875Z"
    }
   },
   "outputs": [],
   "source": [
    "y_pred = np.array([[0, 0, 0, 0, 0, 1, 0, 0, 1], [0, 0, 0, 0, 0, 1, 0, 0, 1], [0, 0, 0, 0, 0, 0, 0, 0, 1]])\n",
    "y_true = np.array([[1, 1, 1, 1, 1, 1, 1, 1, 0], [1, 1, 1, 1, 1, 1, 1, 1, 0], [1, 1, 1, 1, 1, 1, 1, 1, 1]])"
   ]
  },
  {
   "cell_type": "code",
   "execution_count": 264,
   "metadata": {
    "ExecuteTime": {
     "end_time": "2023-09-27T21:10:44.843806Z",
     "start_time": "2023-09-27T21:10:44.838136Z"
    }
   },
   "outputs": [
    {
     "data": {
      "text/plain": [
       "(0.14814814746913582,\n",
       " array([0.        , 0.        , 0.        , 0.        , 0.        ,\n",
       "        1.        , 0.        , 0.        , 0.33333333]))"
      ]
     },
     "execution_count": 264,
     "metadata": {},
     "output_type": "execute_result"
    }
   ],
   "source": [
    "get_mAP(\n",
    "    y_pred,\n",
    "    y_true\n",
    ")"
   ]
  },
  {
   "cell_type": "code",
   "execution_count": 265,
   "metadata": {
    "ExecuteTime": {
     "end_time": "2023-09-27T21:10:45.429268Z",
     "start_time": "2023-09-27T21:10:45.423144Z"
    }
   },
   "outputs": [
    {
     "name": "stdout",
     "output_type": "stream",
     "text": [
      "[0.         0.         0.         0.         0.         1.\n",
      " 0.         0.         0.33333333]\n"
     ]
    },
    {
     "name": "stderr",
     "output_type": "stream",
     "text": [
      "/Users/imrankabir/miniforge3/envs/ml_env_pytorch/lib/python3.8/site-packages/sklearn/metrics/_classification.py:1308: UndefinedMetricWarning: Precision is ill-defined and being set to 0.0 in labels with no predicted samples. Use `zero_division` parameter to control this behavior.\n",
      "  _warn_prf(average, modifier, msg_start, len(result))\n"
     ]
    }
   ],
   "source": [
    "from sklearn import metrics\n",
    "\n",
    "# y_pred = np.array([[0, 0, 0, 0, 0, 1, 0, 0, 1], [0, 0, 0, 0, 0, 0, 0, 0, 1]])\n",
    "# y_true = np.array([[1, 1, 1, 1, 1, 1, 1, 1, 0], [1, 1, 1, 1, 1, 1, 1, 1, 1]])\n",
    "\n",
    "ap = np.array(metrics.precision_score(y_true, y_pred, average=None))\n",
    "print(ap)"
   ]
  },
  {
   "cell_type": "code",
   "execution_count": 266,
   "metadata": {
    "ExecuteTime": {
     "end_time": "2023-09-27T21:10:46.701761Z",
     "start_time": "2023-09-27T21:10:46.695179Z"
    }
   },
   "outputs": [
    {
     "name": "stdout",
     "output_type": "stream",
     "text": [
      "0.14814814814814814\n"
     ]
    }
   ],
   "source": [
    "print(ap.mean())"
   ]
  },
  {
   "cell_type": "code",
   "execution_count": null,
   "metadata": {},
   "outputs": [],
   "source": []
  }
 ],
 "metadata": {
  "kernelspec": {
   "display_name": "Python 3 (ipykernel)",
   "language": "python",
   "name": "python3"
  },
  "language_info": {
   "codemirror_mode": {
    "name": "ipython",
    "version": 3
   },
   "file_extension": ".py",
   "mimetype": "text/x-python",
   "name": "python",
   "nbconvert_exporter": "python",
   "pygments_lexer": "ipython3",
   "version": "3.10.9"
  }
 },
 "nbformat": 4,
 "nbformat_minor": 1
}
